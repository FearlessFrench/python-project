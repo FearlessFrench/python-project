{
 "cells": [
  {
   "cell_type": "markdown",
   "id": "e72f0886",
   "metadata": {},
   "source": [
    "**Aug 28, 2025 at 4:30 PM**"
   ]
  },
  {
   "cell_type": "markdown",
   "id": "5657822e",
   "metadata": {},
   "source": [
    "### Chapter 26: Module\n",
    "a file containing code you want to include in your program\n",
    "\n",
    "use \"import\" to include a module (built-in or your own)\n",
    "\n",
    "useful to break up a large program reusable separate files"
   ]
  },
  {
   "cell_type": "code",
   "execution_count": null,
   "id": "6f7caa65",
   "metadata": {},
   "outputs": [
    {
     "name": "stdout",
     "output_type": "stream",
     "text": [
      "\n",
      "Please wait a moment while I gather a list of all available modules...\n",
      "\n",
      "test_sqlite3: testing with SQLite version 3.49.1\n",
      "IPython             _weakrefset         logging             sys\n",
      "Python Ⅰ            _win32sysloader     lzma                sysconfig\n",
      "Python Ⅱ            _win32verstamp_pywin32ctypes mailbox             tabnanny\n",
      "__future__          _winapi             marshal             tarfile\n",
      "__hello__           _winxptheme         math                tempfile\n",
      "__phello__          _wmi                matplotlib_inline   test\n",
      "_abc                _zoneinfo           mimetypes           textwrap\n",
      "_aix_support        abc                 mmap                this\n",
      "_android_support    adodbapi            mmapfile            threading\n",
      "_apple_support      afxres              mmsystem            time\n",
      "_ast                antigravity         modulefinder        timeit\n",
      "_asyncio            argparse            msvcrt              timer\n",
      "_bisect             array               multiprocessing     tkinter\n",
      "_blake2             ast                 nest_asyncio        token\n",
      "_bz2                asttokens           netbios             tokenize\n",
      "_codecs             asyncio             netrc               tomllib\n",
      "_codecs_cn          atexit              nt                  tornado\n",
      "_codecs_hk          base64              ntpath              trace\n",
      "_codecs_iso2022     bdb                 ntsecuritycon       traceback\n",
      "_codecs_jp          binascii            nturl2path          tracemalloc\n",
      "_codecs_kr          bisect              numbers             traitlets\n",
      "_codecs_tw          builtins            numpy               tty\n",
      "_collections        bz2                 odbc                turtle\n",
      "_collections_abc    cProfile            opcode              turtledemo\n",
      "_colorize           calendar            operator            types\n",
      "_compat_pickle      cmath               optparse            typing\n",
      "_compression        cmd                 os                  tzdata\n",
      "_contextvars        code                packaging           unicodedata\n",
      "_csv                codecs              pandas              unittest\n",
      "_ctypes             codeop              parso               urllib\n",
      "_ctypes_test        collections         pathlib             uuid\n",
      "_datetime           colorama            pdb                 venv\n",
      "_decimal            colorsys            perfmon             warnings\n",
      "_elementtree        comm                pickle              wave\n",
      "_functools          commctrl            pickletools         wcwidth\n",
      "_hashlib            compileall          pip                 weakref\n",
      "_heapq              concurrent          pkgutil             webbrowser\n",
      "_imp                configparser        platform            win2kras\n",
      "_interpchannels     contextlib          platformdirs        win32api\n",
      "_interpqueues       contextvars         plistlib            win32clipboard\n",
      "_interpreters       copy                poplib              win32com\n",
      "_io                 copyreg             posixpath           win32con\n",
      "_ios_support        csv                 pprint              win32console\n",
      "_json               ctypes              profile             win32cred\n",
      "_locale             curses              prompt_toolkit      win32crypt\n",
      "_lsprof             dataclasses         pstats              win32cryptcon\n",
      "_lzma               datetime            psutil              win32event\n",
      "_markupbase         dateutil            pty                 win32evtlog\n",
      "_md5                dbm                 pure_eval           win32evtlogutil\n",
      "_multibytecodec     dde                 py_compile          win32file\n",
      "_multiprocessing    debugpy             pyclbr              win32gui\n",
      "_opcode             decimal             pydoc               win32gui_struct\n",
      "_opcode_metadata    decorator           pydoc_data          win32help\n",
      "_operator           difflib             pyexpat             win32inet\n",
      "_osx_support        dis                 pygments            win32inetcon\n",
      "_overlapped         doctest             pythoncom           win32job\n",
      "_pickle             email               pytz                win32lz\n",
      "_py_abc             encodings           pywin               win32net\n",
      "_pydatetime         ensurepip           pywin32_bootstrap   win32netcon\n",
      "_pydecimal          enum                pywin32_testutil    win32pdh\n",
      "_pyio               errno               pywintypes          win32pdhquery\n",
      "_pylong             executing           queue               win32pdhutil\n",
      "_pyrepl             faulthandler        quopri              win32pipe\n",
      "_queue              filecmp             random              win32print\n",
      "_random             fileinput           rasutil             win32process\n",
      "_sha1               fnmatch             re                  win32profile\n",
      "_sha2               fractions           regcheck            win32ras\n",
      "_sha3               ftplib              regutil             win32rcparser\n",
      "_signal             functools           reprlib             win32security\n",
      "_sitebuiltins       gc                  rlcompleter         win32service\n",
      "_socket             genericpath         runpy               win32serviceutil\n",
      "_sqlite3            getopt              sched               win32timezone\n",
      "_sre                getpass             secrets             win32trace\n",
      "_ssl                gettext             select              win32traceutil\n",
      "_stat               glob                selectors           win32transaction\n",
      "_statistics         graphlib            servicemanager      win32ts\n",
      "_string             gzip                shelve              win32ui\n",
      "_strptime           hashlib             shlex               win32uiole\n",
      "_struct             heapq               shutil              win32verstamp\n",
      "_suggestions        hmac                signal              win32wnet\n",
      "_symtable           html                site                winerror\n",
      "_sysconfig          http                six                 winioctlcon\n",
      "_testbuffer         idlelib             smtplib             winnt\n",
      "_testcapi           imaplib             socket              winperf\n",
      "_testclinic         importlib           socketserver        winreg\n",
      "_testclinic_limited inspect             sqlite3             winsound\n",
      "_testconsole        io                  sre_compile         winxpgui\n",
      "_testimportmultiple ipaddress           sre_constants       winxptheme\n",
      "_testinternalcapi   ipykernel           sre_parse           wsgiref\n",
      "_testlimitedcapi    ipykernel_launcher  ssl                 xml\n",
      "_testmultiphase     ipython_pygments_lexers sspi                xmlrpc\n",
      "_testsinglephase    isapi               sspicon             xxsubtype\n",
      "_thread             itertools           stack_data          zipapp\n",
      "_threading_local    jedi                start_pythonwin     zipfile\n",
      "_tkinter            json                stat                zipimport\n",
      "_tokenize           jupyter             statistics          zlib\n",
      "_tracemalloc        jupyter_client      string              zmq\n",
      "_typing             jupyter_core        stringprep          zoneinfo\n",
      "_uuid               keyword             struct              \n",
      "_warnings           linecache           subprocess          \n",
      "_weakref            locale              symtable            \n",
      "\n",
      "Enter any module name to get more help.  Or, type \"modules spam\" to search\n",
      "for modules whose name or summary contain the string \"spam\".\n",
      "\n",
      "None\n"
     ]
    }
   ],
   "source": [
    "print(help(\"modules\"))"
   ]
  },
  {
   "cell_type": "code",
   "execution_count": null,
   "id": "ae7cfdcf",
   "metadata": {},
   "outputs": [],
   "source": [
    "# For example the math module info\n",
    "print(help(\"math\"))"
   ]
  },
  {
   "cell_type": "code",
   "execution_count": 2,
   "id": "337b516a",
   "metadata": {},
   "outputs": [
    {
     "name": "stdout",
     "output_type": "stream",
     "text": [
      "3.141592653589793\n"
     ]
    }
   ],
   "source": [
    "import math\n",
    "print(math.pi)"
   ]
  },
  {
   "cell_type": "code",
   "execution_count": 3,
   "id": "a10157e5",
   "metadata": {},
   "outputs": [
    {
     "name": "stdout",
     "output_type": "stream",
     "text": [
      "3.141592653589793\n"
     ]
    }
   ],
   "source": [
    "# Using alias will reduce some of the typing\n",
    "import math as m\n",
    "print(m.pi)"
   ]
  },
  {
   "cell_type": "code",
   "execution_count": 6,
   "id": "1c9eefc7",
   "metadata": {},
   "outputs": [
    {
     "name": "stdout",
     "output_type": "stream",
     "text": [
      "3.141592653589793\n"
     ]
    }
   ],
   "source": [
    "# This way is not recommend (could conflict with variable name)\n",
    "from math import pi\n",
    "print(pi)"
   ]
  },
  {
   "cell_type": "code",
   "execution_count": 7,
   "id": "1d29139c",
   "metadata": {},
   "outputs": [
    {
     "name": "stdout",
     "output_type": "stream",
     "text": [
      "2.718281828459045\n",
      "7.3890560989306495\n",
      "20.085536923187664\n",
      "54.59815003314423\n",
      "15.154262241479259\n"
     ]
    }
   ],
   "source": [
    "from math import e\n",
    "a, b, c, d = 1, 2, 3, 4\n",
    "print(e ** a)\n",
    "print(e ** b)\n",
    "print(e ** c)\n",
    "print(e ** d)\n",
    "print(e ** e)"
   ]
  },
  {
   "cell_type": "code",
   "execution_count": 8,
   "id": "39248576",
   "metadata": {},
   "outputs": [
    {
     "name": "stdout",
     "output_type": "stream",
     "text": [
      "5\n",
      "25\n",
      "125\n",
      "625\n",
      "3125\n"
     ]
    }
   ],
   "source": [
    "from math import e\n",
    "a, b, c, d, e = 1, 2, 3, 4, 5 # The e will be use from 2nd version instead\n",
    "print(e ** a)\n",
    "print(e ** b)\n",
    "print(e ** c)\n",
    "print(e ** d)\n",
    "print(e ** e)"
   ]
  },
  {
   "cell_type": "code",
   "execution_count": 9,
   "id": "1a49ced4",
   "metadata": {},
   "outputs": [
    {
     "name": "stdout",
     "output_type": "stream",
     "text": [
      "2.718281828459045\n",
      "7.3890560989306495\n",
      "20.085536923187664\n",
      "54.59815003314423\n",
      "148.41315910257657\n"
     ]
    }
   ],
   "source": [
    "a, b, c, d, e = 1, 2, 3, 4, 5 # The e will be use from 2nd version instead\n",
    "print(math.e ** a)\n",
    "print(math.e ** b)\n",
    "print(math.e ** c)\n",
    "print(math.e ** d)\n",
    "print(math.e ** e)"
   ]
  },
  {
   "cell_type": "markdown",
   "id": "961591b4",
   "metadata": {},
   "source": [
    "Create your own module in **Example.py**"
   ]
  },
  {
   "cell_type": "code",
   "execution_count": 11,
   "id": "ad6ffdb4",
   "metadata": {},
   "outputs": [
    {
     "name": "stdout",
     "output_type": "stream",
     "text": [
      "3.14159\n",
      "9\n",
      "27\n",
      "18.849539999999998\n",
      "28.27431\n"
     ]
    }
   ],
   "source": [
    "# let's import our module\n",
    "import Example\n",
    "\n",
    "result = Example.pi\n",
    "print(result)\n",
    "\n",
    "result = Example.square(3)\n",
    "print(result)\n",
    "\n",
    "result = Example.cube(3)\n",
    "print(result)\n",
    "\n",
    "result = Example.circumference(3)\n",
    "print(result)\n",
    "\n",
    "result = Example.area(3)\n",
    "print(result)"
   ]
  },
  {
   "cell_type": "markdown",
   "id": "d2c7e29c",
   "metadata": {},
   "source": [
    "### Chapter 27: Variable Scope\n",
    "where a variable is visible and accessible\n",
    "\n",
    "scope resolution = (LEGB) Local -> Enclosed -> Global -> Built-in"
   ]
  },
  {
   "cell_type": "code",
   "execution_count": 14,
   "id": "cccde92e",
   "metadata": {},
   "outputs": [
    {
     "name": "stdout",
     "output_type": "stream",
     "text": [
      "1\n",
      "2\n"
     ]
    }
   ],
   "source": [
    "def func1():\n",
    "    a = 1\n",
    "    print(a)\n",
    "    \n",
    "def func2():\n",
    "    b = 2\n",
    "    print(b)\n",
    "    \n",
    "func1()\n",
    "func2()"
   ]
  },
  {
   "cell_type": "code",
   "execution_count": 15,
   "id": "58745c69",
   "metadata": {},
   "outputs": [
    {
     "name": "stdout",
     "output_type": "stream",
     "text": [
      "2\n",
      "1\n"
     ]
    }
   ],
   "source": [
    "# Function can't see inside of other functions\n",
    "def func1():\n",
    "    a = 1\n",
    "    print(b)\n",
    "    \n",
    "def func2():\n",
    "    b = 2\n",
    "    print(a)\n",
    "    \n",
    "func1()\n",
    "func2()"
   ]
  },
  {
   "cell_type": "code",
   "execution_count": 16,
   "id": "dbaca4e9",
   "metadata": {},
   "outputs": [
    {
     "name": "stdout",
     "output_type": "stream",
     "text": [
      "Happy birthday dear Claire\n",
      "You are 21 years old\n"
     ]
    }
   ],
   "source": [
    "# That is why we pass arguments to function\n",
    "# so that functions are aware of them\n",
    "\n",
    "def happy_birthday(name, age):\n",
    "    print(f\"Happy birthday dear {name}\")\n",
    "    print(f\"You are {age} years old\")\n",
    "    \n",
    "def main():\n",
    "    name = \"Claire\"\n",
    "    age = 21\n",
    "    happy_birthday(name, age)\n",
    "main()"
   ]
  },
  {
   "cell_type": "code",
   "execution_count": null,
   "id": "cde4ee95",
   "metadata": {},
   "outputs": [],
   "source": [
    "# Local scope\n",
    "def func1():\n",
    "    x = 1\n",
    "    print(x)\n",
    "    \n",
    "def func2():\n",
    "    x = 2\n",
    "    print(x)\n",
    "    \n",
    "func1()\n",
    "func2()"
   ]
  },
  {
   "cell_type": "code",
   "execution_count": null,
   "id": "13876913",
   "metadata": {},
   "outputs": [],
   "source": [
    "# Enclosed scope (More Advanced Topic where Python doesn't allow this)\n",
    "def func1():\n",
    "    x = 1\n",
    "    \n",
    "    def func2():\n",
    "        print(x)\n",
    "    func(2)\n",
    "    \n",
    "func1()"
   ]
  },
  {
   "cell_type": "code",
   "execution_count": 17,
   "id": "b2704c3c",
   "metadata": {},
   "outputs": [
    {
     "name": "stdout",
     "output_type": "stream",
     "text": [
      "3\n",
      "3\n"
     ]
    }
   ],
   "source": [
    "# Global scope happen when there ae no Local and Enclosed version\n",
    "def func1():\n",
    "    print(x)\n",
    "    \n",
    "def func2():\n",
    "    print(x)\n",
    "x = 3\n",
    "func1()\n",
    "func2()"
   ]
  },
  {
   "cell_type": "code",
   "execution_count": 18,
   "id": "2b15f8f7",
   "metadata": {},
   "outputs": [
    {
     "name": "stdout",
     "output_type": "stream",
     "text": [
      "3\n"
     ]
    }
   ],
   "source": [
    "# Built-in scope\n",
    "from math import e\n",
    "\n",
    "def func1():\n",
    "    print(e) # Built-in version\n",
    "\n",
    "# We now have 2 different version of e\n",
    "e = 3 # Global scope\n",
    "\n",
    "func1() # it will print the Global version first!"
   ]
  },
  {
   "cell_type": "markdown",
   "id": "b7002d09",
   "metadata": {},
   "source": [
    "So scope resolution does matter in Python\n",
    "\n",
    "scope resolution = (LEGB) Local -> Enclosed -> Global -> Built-in"
   ]
  },
  {
   "cell_type": "markdown",
   "id": "1d5bb774",
   "metadata": {},
   "source": [
    "### Chapter 28: if __name__ == '__main__'\n",
    "this script can be import OR run standalone functions \n",
    "\n",
    "and classes in this module can be reused without the main block of code executing"
   ]
  },
  {
   "cell_type": "markdown",
   "id": "4e545381",
   "metadata": {},
   "source": [
    "**Create script1.py and script2.py"
   ]
  },
  {
   "cell_type": "code",
   "execution_count": 21,
   "id": "914da4e0",
   "metadata": {},
   "outputs": [
    {
     "name": "stdout",
     "output_type": "stream",
     "text": [
      "This is script2\n",
      "Your favorite food is Lasagna\n",
      "Your favorite drink is Green Tea\n",
      "Goodbye!\n"
     ]
    }
   ],
   "source": [
    "# ex. library = import library for functionality\n",
    "#               when running library directly, display a help page\n",
    "\n",
    "from script1 import *\n",
    "\n",
    "def favorite_drink(drink):\n",
    "    print(f\"Your favorite drink is {drink}\")\n",
    "    \n",
    "def main():\n",
    "    print(\"This is script2\")\n",
    "    favorite_food(\"Lasagna\")\n",
    "    favorite_drink(\"Green Tea\")\n",
    "    print(\"Goodbye!\")\n",
    "    \n",
    "if __name__ == '__main__':\n",
    "    main()"
   ]
  },
  {
   "cell_type": "markdown",
   "id": "40cff546",
   "metadata": {},
   "source": [
    "### Exercise 14: Python Banking Program\n",
    "\n",
    "1. Show Balance\n",
    "2. Deposit\n",
    "3. Withdraw"
   ]
  },
  {
   "cell_type": "code",
   "execution_count": null,
   "id": "dba66437",
   "metadata": {},
   "outputs": [
    {
     "name": "stdout",
     "output_type": "stream",
     "text": [
      "Banking Program\n",
      "1.Show Balance\n",
      "2.Deposit\n",
      "3.Withdraw\n",
      "4.Exit\n"
     ]
    }
   ],
   "source": [
    "def show_balance(balance):\n",
    "    print(\"*************************\")\n",
    "    print(f\"Your balance is ${balance:.2f}\") # Rounding to 2 number\n",
    "    print(\"*************************\")\n",
    "\n",
    "def deposit():\n",
    "    print(\"*************************\")\n",
    "    amount = float(input(\"Enter an amount to be deposited: \"))\n",
    "    print(\"*************************\")\n",
    "\n",
    "    if amount < 0:\n",
    "        print(\"*************************\")\n",
    "        print(\"That's not a valid amount\")\n",
    "        print(\"*************************\")\n",
    "        return 0\n",
    "    else:\n",
    "        return amount\n",
    "    \n",
    "    \n",
    "def withdraw(balance):\n",
    "    print(\"*************************\")\n",
    "    amount = float(input(\"Enter amount to be withdrawn: \"))\n",
    "    print(\"*************************\")\n",
    "    \n",
    "    if amount > balance:\n",
    "        print(\"*************************\")\n",
    "        print(\"Insufficient funds\")\n",
    "        print(\"*************************\")\n",
    "        return 0\n",
    "    \n",
    "    elif amount < 0:\n",
    "        print(\"*************************\")\n",
    "        print(\"Amount must be greater than 0\")\n",
    "        print(\"*************************\")\n",
    "        return 0\n",
    "    else:\n",
    "        return amount\n",
    "\n",
    "def main():\n",
    "    balance = 0\n",
    "    is_running = True\n",
    "\n",
    "    while is_running:\n",
    "        print(\"*************************\")\n",
    "        print(\"     Banking Program     \")\n",
    "        print(\"1.Show Balance\")\n",
    "        print(\"2.Deposit\")\n",
    "        print(\"3.Withdraw\")\n",
    "        print(\"4.Exit\")\n",
    "        print(\"*************************\")\n",
    "        \n",
    "        choice = input(\"Enter your choice (1-4): \")\n",
    "        \n",
    "        if choice == '1':\n",
    "            show_balance(balance)\n",
    "        elif choice == '2':\n",
    "            balance += deposit()\n",
    "        elif choice == '3':\n",
    "            balance -= withdraw(balance)\n",
    "        elif choice == '4':\n",
    "            is_running = False\n",
    "        else:\n",
    "            print(\"That is not a valid choice\")\n",
    "            \n",
    "    print(\"Thank you! Have a nice day!\")\n",
    "\n",
    "if __name__ == '__main__':\n",
    "    main()"
   ]
  },
  {
   "cell_type": "markdown",
   "id": "75ba5f28",
   "metadata": {},
   "source": [
    "### Exercise 15: Python Slot Machine"
   ]
  },
  {
   "cell_type": "code",
   "execution_count": null,
   "id": "9ce83b56",
   "metadata": {},
   "outputs": [
    {
     "name": "stdout",
     "output_type": "stream",
     "text": [
      "*********************************\n",
      "     Welcome to Python Slots     \n",
      "Symbols: 🍒 🍉 🍋 🔔 ⭐\n",
      "*********************************\n",
      "Current balance: $100\n"
     ]
    }
   ],
   "source": [
    "def spin_row():\n",
    "    symbols = ['🍒', '🍉', '🍋', '🔔', '⭐']\n",
    "    \n",
    "    # Use List Comprehension\n",
    "    return [random,choice(symbols) for _ in range(3)]\n",
    "\n",
    "def print_row(row):\n",
    "    print(\"*************\")\n",
    "    print(\" | \".join(row))\n",
    "    print(\"*************\")\n",
    "\n",
    "def get_payout(row, bet):\n",
    "    if row[0] == row[1] == row[2]:\n",
    "        if row[0] == '🍒': # If somebody got all cherries\n",
    "            return bet * 3\n",
    "        elif row[0] == '🍉'\n",
    "            return bet * 4\n",
    "        elif row[0] == '🍋'\n",
    "            return bet * 5\n",
    "        elif row[0] == '🔔'\n",
    "            return bet * 10\n",
    "        elif row[0] == '⭐'\n",
    "            return bet * 20\n",
    "    return 0 # If player didn't win anything\n",
    "\n",
    "def main():\n",
    "    balance = 100\n",
    "    print(\"*********************************\")\n",
    "    print(\"     Welcome to Python Slots     \")\n",
    "    print(\"Symbols: 🍒 🍉 🍋 🔔 ⭐\")\n",
    "    print(\"*********************************\")\n",
    "    \n",
    "    while balance > 0:\n",
    "        print(f\"Current balance: ${balance}\")\n",
    "        \n",
    "        bet = input(\"Place your bet amount\")\n",
    "        if not bet.isdigit():\n",
    "            print(\"Please enter a valid number\")\n",
    "            continue # Skip this iteration and start from the beginning\n",
    "        \n",
    "        # typecasting\n",
    "        bet = int(bet)\n",
    "        if bet > balance: # People can't bet money more than they have\n",
    "            print(\"Insufficient funds\")\n",
    "            continue\n",
    "        \n",
    "        if bet <= 0:\n",
    "            print(\"Bet must be greater than 0\")\n",
    "            continue\n",
    "        \n",
    "        balance -= bet\n",
    "        \n",
    "        row = spin_row()\n",
    "        print(\"Spining...\\n\")\n",
    "        print_row(row)\n",
    "        \n",
    "        payout = get_payout(row, bet)\n",
    "        \n",
    "        if payout > 0:\n",
    "            print(f\"You won ${payout}\")\n",
    "        else:\n",
    "            print(\"Sorry you lost this round\")\n",
    "            \n",
    "        balance += payout\n",
    "        \n",
    "        play_again = input(\"Do you want to spin again? (Y/N): \").upper()\n",
    "        if play_again != 'Y':\n",
    "            break\n",
    "    \n",
    "    print(\"********************************************\")\n",
    "    print(f\"Game over! Your final balance is ${balance}\")\n",
    "    print(\"********************************************\")\n",
    "        \n",
    "if __name__ == '__main__':\n",
    "    main()"
   ]
  },
  {
   "cell_type": "markdown",
   "id": "99a913a9",
   "metadata": {},
   "source": [
    "### Exercise 16: Encryption Program"
   ]
  },
  {
   "cell_type": "code",
   "execution_count": 2,
   "id": "0d26cb8c",
   "metadata": {},
   "outputs": [
    {
     "name": "stdout",
     "output_type": "stream",
     "text": [
      " !\"#$%&'()*+,-./:;<=>?@[\\]^_`{|}~0123456789abcdefghijklmnopqrstuvwxyzABCDEFGHIJKLMNOPQRSTUVWXYZ\n"
     ]
    }
   ],
   "source": [
    "import random\n",
    "import string\n",
    "\n",
    "#chars = string.whitespace + string.punctuation + string.digits + string.ascii_letters\n",
    "chars = \" \" + string.punctuation + string.digits + string.ascii_letters\n",
    "print(chars)"
   ]
  },
  {
   "cell_type": "code",
   "execution_count": 3,
   "id": "1407d740",
   "metadata": {},
   "outputs": [
    {
     "name": "stdout",
     "output_type": "stream",
     "text": [
      "[' ', '!', '\"', '#', '$', '%', '&', \"'\", '(', ')', '*', '+', ',', '-', '.', '/', ':', ';', '<', '=', '>', '?', '@', '[', '\\\\', ']', '^', '_', '`', '{', '|', '}', '~', '0', '1', '2', '3', '4', '5', '6', '7', '8', '9', 'a', 'b', 'c', 'd', 'e', 'f', 'g', 'h', 'i', 'j', 'k', 'l', 'm', 'n', 'o', 'p', 'q', 'r', 's', 't', 'u', 'v', 'w', 'x', 'y', 'z', 'A', 'B', 'C', 'D', 'E', 'F', 'G', 'H', 'I', 'J', 'K', 'L', 'M', 'N', 'O', 'P', 'Q', 'R', 'S', 'T', 'U', 'V', 'W', 'X', 'Y', 'Z']\n"
     ]
    }
   ],
   "source": [
    "chars = list(chars)\n",
    "print(chars) # instead of one long string we have a list"
   ]
  },
  {
   "cell_type": "code",
   "execution_count": null,
   "id": "6a80d0e2",
   "metadata": {},
   "outputs": [
    {
     "name": "stdout",
     "output_type": "stream",
     "text": [
      "chars: [' ', '!', '\"', '#', '$', '%', '&', \"'\", '(', ')', '*', '+', ',', '-', '.', '/', ':', ';', '<', '=', '>', '?', '@', '[', '\\\\', ']', '^', '_', '`', '{', '|', '}', '~', '0', '1', '2', '3', '4', '5', '6', '7', '8', '9', 'a', 'b', 'c', 'd', 'e', 'f', 'g', 'h', 'i', 'j', 'k', 'l', 'm', 'n', 'o', 'p', 'q', 'r', 's', 't', 'u', 'v', 'w', 'x', 'y', 'z', 'A', 'B', 'C', 'D', 'E', 'F', 'G', 'H', 'I', 'J', 'K', 'L', 'M', 'N', 'O', 'P', 'Q', 'R', 'S', 'T', 'U', 'V', 'W', 'X', 'Y', 'Z']\n",
      "key  : [' ', '!', '\"', '#', '$', '%', '&', \"'\", '(', ')', '*', '+', ',', '-', '.', '/', ':', ';', '<', '=', '>', '?', '@', '[', '\\\\', ']', '^', '_', '`', '{', '|', '}', '~', '0', '1', '2', '3', '4', '5', '6', '7', '8', '9', 'a', 'b', 'c', 'd', 'e', 'f', 'g', 'h', 'i', 'j', 'k', 'l', 'm', 'n', 'o', 'p', 'q', 'r', 's', 't', 'u', 'v', 'w', 'x', 'y', 'z', 'A', 'B', 'C', 'D', 'E', 'F', 'G', 'H', 'I', 'J', 'K', 'L', 'M', 'N', 'O', 'P', 'Q', 'R', 'S', 'T', 'U', 'V', 'W', 'X', 'Y', 'Z']\n"
     ]
    }
   ],
   "source": [
    "key = chars.copy()\n",
    "print(f\"chars: {chars}\")\n",
    "print(f\"key  : {key}\")"
   ]
  },
  {
   "cell_type": "code",
   "execution_count": 5,
   "id": "d073f0eb",
   "metadata": {},
   "outputs": [
    {
     "name": "stdout",
     "output_type": "stream",
     "text": [
      "chars: [' ', '!', '\"', '#', '$', '%', '&', \"'\", '(', ')', '*', '+', ',', '-', '.', '/', ':', ';', '<', '=', '>', '?', '@', '[', '\\\\', ']', '^', '_', '`', '{', '|', '}', '~', '0', '1', '2', '3', '4', '5', '6', '7', '8', '9', 'a', 'b', 'c', 'd', 'e', 'f', 'g', 'h', 'i', 'j', 'k', 'l', 'm', 'n', 'o', 'p', 'q', 'r', 's', 't', 'u', 'v', 'w', 'x', 'y', 'z', 'A', 'B', 'C', 'D', 'E', 'F', 'G', 'H', 'I', 'J', 'K', 'L', 'M', 'N', 'O', 'P', 'Q', 'R', 'S', 'T', 'U', 'V', 'W', 'X', 'Y', 'Z']\n",
      "key  : ['#', 'l', '3', \"'\", 'b', '-', 'O', 'Y', '9', 'K', '0', 'a', 'U', 'j', ',', 'd', '1', '!', 'o', 'k', '<', '.', 'm', 'e', ']', ';', 'i', 'c', 'n', 's', 'B', 'J', 'x', 'G', 'u', 'T', '/', '^', '_', 'E', '@', 'I', 'p', 't', 'w', 'P', '`', ')', '[', '(', 'Z', '~', '+', '6', '=', 'M', 'f', 'C', '\\\\', '|', 'y', 'q', 'Q', '\"', 'F', 'A', '&', 'z', 'W', '5', '$', ':', '>', 'S', '7', '*', 'D', 'h', '?', 'N', '2', 'V', ' ', '%', '8', '{', 'L', 'X', 'R', 'g', 'r', 'v', 'H', '4', '}']\n"
     ]
    }
   ],
   "source": [
    "random.shuffle(key)\n",
    "print(f\"chars: {chars}\")\n",
    "print(f\"key  : {key}\")"
   ]
  },
  {
   "cell_type": "markdown",
   "id": "5c45146c",
   "metadata": {},
   "source": [
    "Everytime we run this program encryption key will be shuffle"
   ]
  },
  {
   "cell_type": "code",
   "execution_count": 11,
   "id": "6a7f71ed",
   "metadata": {},
   "outputs": [
    {
     "name": "stdout",
     "output_type": "stream",
     "text": [
      "original message : I love Claire Redfield!\n",
      "encrypted message: h#=CF)#:=t~y)#L)`[~)=`l\n"
     ]
    }
   ],
   "source": [
    "# ENCRYPT\n",
    "#plain_text = input(\"Enter a message to encrypt: \")\n",
    "plain_text = \"I love Claire Redfield!\"\n",
    "cipher_text = \"\"\n",
    "\n",
    "for letter in plain_text:\n",
    "    index = chars.index(letter)\n",
    "    cipher_text += key[index]\n",
    "    \n",
    "print(f\"original message : {plain_text}\")\n",
    "print(f\"encrypted message: {cipher_text}\")"
   ]
  },
  {
   "cell_type": "code",
   "execution_count": 12,
   "id": "25485832",
   "metadata": {},
   "outputs": [
    {
     "name": "stdout",
     "output_type": "stream",
     "text": [
      "encrypted message: h#=CF)#:=t~y)#L)`[~)=`l\n",
      "original message : I love Claire Redfield!\n"
     ]
    }
   ],
   "source": [
    "# DECRYPT\n",
    "#cipher_text = input(\"Enter a message to encrypt: \")\n",
    "cipher_text = \"h#=CF)#:=t~y)#L)`[~)=`l\"\n",
    "plain_text = \"\"\n",
    "\n",
    "for letter in cipher_text:\n",
    "    index = key.index(letter)\n",
    "    plain_text += chars[index]\n",
    "    \n",
    "print(f\"encrypted message: {cipher_text}\")\n",
    "print(f\"original message : {plain_text}\")"
   ]
  },
  {
   "cell_type": "markdown",
   "id": "ccc74135",
   "metadata": {},
   "source": [
    "### Exercise 17: Hangman in Python\n",
    "\n",
    "Once we reached 6 guesses we will lose"
   ]
  },
  {
   "cell_type": "code",
   "execution_count": null,
   "id": "7db890a3",
   "metadata": {},
   "outputs": [
    {
     "name": "stdout",
     "output_type": "stream",
     "text": [
      " o \n",
      "/|\\\n",
      "/ \\\n"
     ]
    }
   ],
   "source": [
    "\n",
    "import random\n",
    "\n",
    "words = (\"comet\", \"dream\", \"body\", \"switch\", \"personality\")\n",
    "\n",
    "# Dictionary of key:()\n",
    "hangman_art = {0: (\"   \",\n",
    "                   \"   \",\n",
    "                   \"   \"),\n",
    "               1: (\" o \",\n",
    "                   \"   \",\n",
    "                   \"   \"),\n",
    "               2: (\" o \",\n",
    "                   \" | \",\n",
    "                   \"   \"),\n",
    "               3: (\" o \",\n",
    "                   \"/| \",\n",
    "                   \"   \"),\n",
    "               4: (\" o \",\n",
    "                   \"/|\\\\\",\n",
    "                   \"   \"),\n",
    "               5: (\" o \",\n",
    "                   \"/|\\\\\",\n",
    "                   \"/  \"),\n",
    "               6: (\" o \",\n",
    "                   \"/|\\\\\",\n",
    "                   \"/ \\\\\")}\n",
    "\n",
    "for line in hangman_art[6]:\n",
    "    print(line)"
   ]
  },
  {
   "cell_type": "code",
   "execution_count": null,
   "id": "c455de05",
   "metadata": {},
   "outputs": [
    {
     "name": "stdout",
     "output_type": "stream",
     "text": [
      "orange\n"
     ]
    }
   ],
   "source": [
    "def display_man(wrong_guesses): # Display our hangman\n",
    "    print(\"__________\")\n",
    "    for line in hangman_art[wrong_guesses]:\n",
    "        print(line)\n",
    "    print(\"__________\")\n",
    "\n",
    "def display_hint(hint): # A list of an underscore letter [_, _, _, _, _]\n",
    "    print(\" \".join(hint)) # Each seperate with a space:  _ _ _ _ _\n",
    "\n",
    "def display_answer(answer):\n",
    "    print(\" \".join(answer)) # Display an answer:  c o m e t\n",
    "\n",
    "def main():\n",
    "    answer = random.choice(words) # Choosing a word at random\n",
    "    #print(answer)\n",
    "    \n",
    "    hint = [\"_\"] * len(answer) # Need to be equal a chosen word\n",
    "    #print(answer)\n",
    "    \n",
    "    wrong_guesses = 0\n",
    "    guessed_letters = set()\n",
    "    is_running = True\n",
    "\n",
    "    while is_running:\n",
    "        display_man(wrong_guesses)\n",
    "        display_hint(hint)\n",
    "        guess = input(\"Enter a letter: \").lower()\n",
    "        \n",
    "        # Input validation prevent user type in many character at once like \"pizza\" or \"20\"\n",
    "        if len(guess) != 1 or not guess.isalpha():\n",
    "            print(\"Invalid input\")\n",
    "            continue # Skip this loop\n",
    "        \n",
    "        # Keeping track of letter that is already guessed\n",
    "        if guess in guessed_letters:\n",
    "            print(f\"{guess} is already guessed\")\n",
    "            continue\n",
    "        \n",
    "        guessed_letters.add(guess)\n",
    "            \n",
    "        if guess in answer:\n",
    "            for i in range(len(answer)):\n",
    "                if answer[i] == guess: # If guesses right\n",
    "                    hint[i] = guess # _ _ m _ t\n",
    "        else:\n",
    "            wrong_guesses += 1\n",
    "        \n",
    "        # Win condition\n",
    "        if \"_\" not in hint:\n",
    "            display_man(wrong_guesses)\n",
    "            display_answer(answer)\n",
    "            print(\"YOU WIN!\")\n",
    "        elif wrong_guesses >= len(hangman_art) - 1: # Lose condition\n",
    "            display_man(wrong_guesses)\n",
    "            display_answer(answer)\n",
    "            print(\"YOU LOSE!\")\n",
    "            is_running = False\n",
    "        \n",
    "if __name__ == '__main__':\n",
    "    main()\n"
   ]
  }
 ],
 "metadata": {
  "kernelspec": {
   "display_name": "venv",
   "language": "python",
   "name": "python3"
  },
  "language_info": {
   "codemirror_mode": {
    "name": "ipython",
    "version": 3
   },
   "file_extension": ".py",
   "mimetype": "text/x-python",
   "name": "python",
   "nbconvert_exporter": "python",
   "pygments_lexer": "ipython3",
   "version": "3.13.3"
  }
 },
 "nbformat": 4,
 "nbformat_minor": 5
}
