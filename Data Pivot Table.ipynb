{
 "cells": [
  {
   "cell_type": "markdown",
   "id": "c4126c7e",
   "metadata": {},
   "source": [
    "# Pandas Pivot Table"
   ]
  },
  {
   "cell_type": "markdown",
   "id": "15c01b6c",
   "metadata": {},
   "source": [
    "### **Aug 28, 2025 at 2:42 PM**"
   ]
  },
  {
   "cell_type": "markdown",
   "id": "bb4ec602",
   "metadata": {},
   "source": [
    "### **Python | Pandas.pivot()**\n",
    "pandas.pivot(index, columns, values) function produces a pivot table based on 3 columns of the DataFrame. Uses unique values from the index/columns and fills them with values.\n",
    "\n",
    "<div class=\"alert alert-block alert-success\">\n",
    "<b>Syntax:</b> pandas.pivot(index, columns, values)\n",
    "\n",
    "<b>Parameters:</b> \n",
    "<ol>\n",
    "    <li><b>index[ndarray] :</b> Labels to use to make new frame’s index</li>\n",
    "    <li><b>columns[ndarray] :</b> Labels to use to make new frame’s columns</li>\n",
    "    <li><b>values[ndarray] :</b> Values to use for populating new frame’s values</li>\n",
    "</ol>\n",
    "\n",
    "<b>Returns:</b> Reshaped DataFrame\n",
    "\n",
    "<b>Exception:</b> ValueError raised if there are any duplicates.\n",
    "</div>"
   ]
  },
  {
   "cell_type": "markdown",
   "id": "f9773002",
   "metadata": {},
   "source": [
    "### **Creating a Sample DataFrame**"
   ]
  },
  {
   "cell_type": "code",
   "execution_count": 4,
   "id": "bf97b1fb",
   "metadata": {},
   "outputs": [
    {
     "data": {
      "text/html": [
       "<div>\n",
       "<style scoped>\n",
       "    .dataframe tbody tr th:only-of-type {\n",
       "        vertical-align: middle;\n",
       "    }\n",
       "\n",
       "    .dataframe tbody tr th {\n",
       "        vertical-align: top;\n",
       "    }\n",
       "\n",
       "    .dataframe thead th {\n",
       "        text-align: right;\n",
       "    }\n",
       "</style>\n",
       "<table border=\"1\" class=\"dataframe\">\n",
       "  <thead>\n",
       "    <tr style=\"text-align: right;\">\n",
       "      <th></th>\n",
       "      <th>A</th>\n",
       "      <th>B</th>\n",
       "      <th>C</th>\n",
       "    </tr>\n",
       "  </thead>\n",
       "  <tbody>\n",
       "    <tr>\n",
       "      <th>0</th>\n",
       "      <td>John</td>\n",
       "      <td>Master</td>\n",
       "      <td>27</td>\n",
       "    </tr>\n",
       "    <tr>\n",
       "      <th>1</th>\n",
       "      <td>Body</td>\n",
       "      <td>Graduate</td>\n",
       "      <td>23</td>\n",
       "    </tr>\n",
       "    <tr>\n",
       "      <th>2</th>\n",
       "      <td>Mina</td>\n",
       "      <td>Graduate</td>\n",
       "      <td>21</td>\n",
       "    </tr>\n",
       "  </tbody>\n",
       "</table>\n",
       "</div>"
      ],
      "text/plain": [
       "      A         B   C\n",
       "0  John    Master  27\n",
       "1  Body  Graduate  23\n",
       "2  Mina  Graduate  21"
      ]
     },
     "execution_count": 4,
     "metadata": {},
     "output_type": "execute_result"
    }
   ],
   "source": [
    "# Here, we are making a sample DataFrame that we will use in our article throughout.\n",
    "import pandas as pd\n",
    "\n",
    "# creating dataframe\n",
    "df = pd.DataFrame({\"A\": [\"John\", \"Body\", \"Mina\"],\n",
    "                   \"B\": [\"Master\", \"Graduate\", \"Graduate\"],\n",
    "                   \"C\": [27, 23, 21]})\n",
    "df"
   ]
  },
  {
   "cell_type": "markdown",
   "id": "5c2c6b64",
   "metadata": {},
   "source": [
    "### **Creating and Pivot a DataFrame**\n",
    "In this example, a pandas DataFrame (df) is pivoted with columns ‘A’ and ‘B’ becoming the new index and columns, respectively, and the values in column ‘C’ populating the cells of the resulting pivot table. The function assumes that each combination of ‘A’ and ‘B’ has a unique corresponding value in ‘C’."
   ]
  },
  {
   "cell_type": "code",
   "execution_count": 11,
   "id": "868653b2",
   "metadata": {},
   "outputs": [
    {
     "data": {
      "text/html": [
       "<div>\n",
       "<style scoped>\n",
       "    .dataframe tbody tr th:only-of-type {\n",
       "        vertical-align: middle;\n",
       "    }\n",
       "\n",
       "    .dataframe tbody tr th {\n",
       "        vertical-align: top;\n",
       "    }\n",
       "\n",
       "    .dataframe thead th {\n",
       "        text-align: right;\n",
       "    }\n",
       "</style>\n",
       "<table border=\"1\" class=\"dataframe\">\n",
       "  <thead>\n",
       "    <tr style=\"text-align: right;\">\n",
       "      <th>B</th>\n",
       "      <th>Graduate</th>\n",
       "      <th>Master</th>\n",
       "    </tr>\n",
       "    <tr>\n",
       "      <th>A</th>\n",
       "      <th></th>\n",
       "      <th></th>\n",
       "    </tr>\n",
       "  </thead>\n",
       "  <tbody>\n",
       "    <tr>\n",
       "      <th>Body</th>\n",
       "      <td>23.0</td>\n",
       "      <td>NaN</td>\n",
       "    </tr>\n",
       "    <tr>\n",
       "      <th>John</th>\n",
       "      <td>NaN</td>\n",
       "      <td>27.0</td>\n",
       "    </tr>\n",
       "    <tr>\n",
       "      <th>Mina</th>\n",
       "      <td>21.0</td>\n",
       "      <td>NaN</td>\n",
       "    </tr>\n",
       "  </tbody>\n",
       "</table>\n",
       "</div>"
      ],
      "text/plain": [
       "B     Graduate  Master\n",
       "A                     \n",
       "Body      23.0     NaN\n",
       "John       NaN    27.0\n",
       "Mina      21.0     NaN"
      ]
     },
     "execution_count": 11,
     "metadata": {},
     "output_type": "execute_result"
    }
   ],
   "source": [
    "# values can be an object or a list \n",
    "results = df.pivot(index='A', columns='B', values='C')\n",
    "results"
   ]
  },
  {
   "cell_type": "markdown",
   "id": "6dc8effb",
   "metadata": {},
   "source": [
    "### **Creating a Multi-level Pivot Table with Pandas DataFrame**\n",
    "\n",
    "In this example, the pandas DataFrame (df) is transformed into a multi-level pivot table, using ‘A’ as the index, ‘B’ as the columns, and extracting values from both columns ‘C’ and ‘A’ to fill the cells. This approach allows for a more detailed representation of the data, incorporating multiple dimensions into the resulting pivot table."
   ]
  },
  {
   "cell_type": "code",
   "execution_count": 12,
   "id": "c854945d",
   "metadata": {},
   "outputs": [
    {
     "data": {
      "text/html": [
       "<div>\n",
       "<style scoped>\n",
       "    .dataframe tbody tr th:only-of-type {\n",
       "        vertical-align: middle;\n",
       "    }\n",
       "\n",
       "    .dataframe tbody tr th {\n",
       "        vertical-align: top;\n",
       "    }\n",
       "\n",
       "    .dataframe thead tr th {\n",
       "        text-align: left;\n",
       "    }\n",
       "\n",
       "    .dataframe thead tr:last-of-type th {\n",
       "        text-align: right;\n",
       "    }\n",
       "</style>\n",
       "<table border=\"1\" class=\"dataframe\">\n",
       "  <thead>\n",
       "    <tr>\n",
       "      <th></th>\n",
       "      <th colspan=\"2\" halign=\"left\">C</th>\n",
       "      <th colspan=\"2\" halign=\"left\">A</th>\n",
       "    </tr>\n",
       "    <tr>\n",
       "      <th>B</th>\n",
       "      <th>Graduate</th>\n",
       "      <th>Master</th>\n",
       "      <th>Graduate</th>\n",
       "      <th>Master</th>\n",
       "    </tr>\n",
       "    <tr>\n",
       "      <th>A</th>\n",
       "      <th></th>\n",
       "      <th></th>\n",
       "      <th></th>\n",
       "      <th></th>\n",
       "    </tr>\n",
       "  </thead>\n",
       "  <tbody>\n",
       "    <tr>\n",
       "      <th>Body</th>\n",
       "      <td>23</td>\n",
       "      <td>NaN</td>\n",
       "      <td>Body</td>\n",
       "      <td>NaN</td>\n",
       "    </tr>\n",
       "    <tr>\n",
       "      <th>John</th>\n",
       "      <td>NaN</td>\n",
       "      <td>27</td>\n",
       "      <td>NaN</td>\n",
       "      <td>John</td>\n",
       "    </tr>\n",
       "    <tr>\n",
       "      <th>Mina</th>\n",
       "      <td>21</td>\n",
       "      <td>NaN</td>\n",
       "      <td>Mina</td>\n",
       "      <td>NaN</td>\n",
       "    </tr>\n",
       "  </tbody>\n",
       "</table>\n",
       "</div>"
      ],
      "text/plain": [
       "            C               A       \n",
       "B    Graduate Master Graduate Master\n",
       "A                                   \n",
       "Body       23    NaN     Body    NaN\n",
       "John      NaN     27      NaN   John\n",
       "Mina       21    NaN     Mina    NaN"
      ]
     },
     "execution_count": 12,
     "metadata": {},
     "output_type": "execute_result"
    }
   ],
   "source": [
    "df.pivot(index=\"A\", columns=\"B\", values=[\"C\", \"A\"])"
   ]
  },
  {
   "cell_type": "markdown",
   "id": "b828947b",
   "metadata": {},
   "source": [
    "### **ValueError Raised in Pivoting a DataFrame**\n",
    "Raise ValueError when there are any index, columns combinations with multiple values."
   ]
  },
  {
   "cell_type": "code",
   "execution_count": null,
   "id": "4c1e5b71",
   "metadata": {},
   "outputs": [],
   "source": [
    "# importing pandas as pd\n",
    "import pandas as pd\n",
    "\n",
    "# creating a dataframe\n",
    "df = pd.DataFrame({\"A\": [\"John\", \"John\", \"Mina\"],\n",
    "                   \"B\": [\"Masters\", \"Masters\", \"Graduate\"],\n",
    "                   \"C\": [27, 23, 21]})\n",
    "\n",
    "df.pivot(index=\"A\", columns=\"B\", values=\"C\")"
   ]
  },
  {
   "cell_type": "markdown",
   "id": "9f6de514",
   "metadata": {},
   "source": [
    "<div class=\"alert alert-block alert-danger\">\n",
    "<b>ValueError:</b> Index contains duplicate entries, cannot reshape\n",
    "</div>"
   ]
  },
  {
   "cell_type": "markdown",
   "id": "351992e5",
   "metadata": {},
   "source": [
    "### **Pandas.pivot_table() – Python**\n",
    "Last Updated : 28 Apr, 2025\n",
    "\n",
    "pandas.pivot_table() function allows us to create a pivot table to summarize and aggregate data. This function is important when working with large datasets to analyze and transform data efficiently. In this article, we will see some examples to see how it works."
   ]
  },
  {
   "cell_type": "code",
   "execution_count": 14,
   "id": "e4262dd6",
   "metadata": {},
   "outputs": [
    {
     "data": {
      "text/html": [
       "<div>\n",
       "<style scoped>\n",
       "    .dataframe tbody tr th:only-of-type {\n",
       "        vertical-align: middle;\n",
       "    }\n",
       "\n",
       "    .dataframe tbody tr th {\n",
       "        vertical-align: top;\n",
       "    }\n",
       "\n",
       "    .dataframe thead th {\n",
       "        text-align: right;\n",
       "    }\n",
       "</style>\n",
       "<table border=\"1\" class=\"dataframe\">\n",
       "  <thead>\n",
       "    <tr style=\"text-align: right;\">\n",
       "      <th></th>\n",
       "      <th></th>\n",
       "      <th>C</th>\n",
       "    </tr>\n",
       "    <tr>\n",
       "      <th>A</th>\n",
       "      <th>B</th>\n",
       "      <th></th>\n",
       "    </tr>\n",
       "  </thead>\n",
       "  <tbody>\n",
       "    <tr>\n",
       "      <th>Boby</th>\n",
       "      <th>Graduate</th>\n",
       "      <td>23.0</td>\n",
       "    </tr>\n",
       "    <tr>\n",
       "      <th>John</th>\n",
       "      <th>Masters</th>\n",
       "      <td>27.0</td>\n",
       "    </tr>\n",
       "    <tr>\n",
       "      <th>Mina</th>\n",
       "      <th>Graduate</th>\n",
       "      <td>21.0</td>\n",
       "    </tr>\n",
       "    <tr>\n",
       "      <th>Nicky</th>\n",
       "      <th>Graduate</th>\n",
       "      <td>24.0</td>\n",
       "    </tr>\n",
       "    <tr>\n",
       "      <th>Peter</th>\n",
       "      <th>Masters</th>\n",
       "      <td>23.0</td>\n",
       "    </tr>\n",
       "  </tbody>\n",
       "</table>\n",
       "</div>"
      ],
      "text/plain": [
       "                   C\n",
       "A     B             \n",
       "Boby  Graduate  23.0\n",
       "John  Masters   27.0\n",
       "Mina  Graduate  21.0\n",
       "Nicky Graduate  24.0\n",
       "Peter Masters   23.0"
      ]
     },
     "execution_count": 14,
     "metadata": {},
     "output_type": "execute_result"
    }
   ],
   "source": [
    "# Let's see an example\n",
    "import pandas as pd\n",
    "df = pd.DataFrame({\n",
    "    'A': ['John', 'Boby', 'Mina', 'Peter', 'Nicky'],\n",
    "    'B': ['Masters', 'Graduate', 'Graduate', 'Masters', 'Graduate'],\n",
    "    'C': [27, 23, 21, 23, 24]\n",
    "})\n",
    "\n",
    "df\n",
    "table = pd.pivot_table(df, index=['A', 'B'])\n",
    "table\n"
   ]
  },
  {
   "cell_type": "markdown",
   "id": "4c499752",
   "metadata": {},
   "source": [
    "Here pd.pivot_table(df, index=[‘A’, ‘B’]) created a pivot table that groups data by columns ‘A’ and ‘B’ and aggregates their values by calculating their mean.\n",
    "<div class=\"alert alert-block alert-success\">\n",
    "<b>Syntax:</b> DataFrame.pivot_table(values=None, index=None, columns=None, aggfunc=’mean’, fill_value=None, margins=False, dropna=True)\n",
    "</div>\n",
    "\n",
    "Parameters:\n",
    "<ul>\n",
    "<li>values: Columns to aggregate.</li>\n",
    "    <li>index: Columns to use as the new row index.</li>\n",
    "    <li>columns: Columns to use as the new column headers.</li>\n",
    "    <li>aggfunc: Aggregation functions like mean, sum, count etc. By default it is mean.</li>\n",
    "    <li>fill_value: Value to replace missing data.</li>\n",
    "    <li>margins: Whether to add totals, default is false.</li>\n",
    "    <li>dropna: Whether to exclude missing values from the DataFrame, default is True.</li>\n",
    "</ul>\n",
    "\n",
    "Returns: DataFrame"
   ]
  },
  {
   "cell_type": "markdown",
   "id": "2e33317d",
   "metadata": {},
   "source": [
    "### **Example 1: Using the values and aggfunc Parameters**\n",
    "We can customize aggregation by specifying the values parameter (column to aggregate) and the aggfunc parameter (aggregation function). By default aggregation is mean but we can use functions like sum, count etc.\n",
    "<ul>\n",
    "<li><b>table = pd.pivot_table(df, values=’C’, index=’C’, columns=’B’, aggfunc=’sum’):</b> Creating a pivot table that groups data by column ‘C’ as rows and column ‘B’ as columns which helps in summing values in column ‘C’ for each combination of ‘C’ and ‘B’.</li>\n",
    "</ul>"
   ]
  },
  {
   "cell_type": "code",
   "execution_count": 16,
   "id": "75043f47",
   "metadata": {},
   "outputs": [
    {
     "data": {
      "text/html": [
       "<div>\n",
       "<style scoped>\n",
       "    .dataframe tbody tr th:only-of-type {\n",
       "        vertical-align: middle;\n",
       "    }\n",
       "\n",
       "    .dataframe tbody tr th {\n",
       "        vertical-align: top;\n",
       "    }\n",
       "\n",
       "    .dataframe thead th {\n",
       "        text-align: right;\n",
       "    }\n",
       "</style>\n",
       "<table border=\"1\" class=\"dataframe\">\n",
       "  <thead>\n",
       "    <tr style=\"text-align: right;\">\n",
       "      <th>B</th>\n",
       "      <th>Graduate</th>\n",
       "      <th>Masters</th>\n",
       "    </tr>\n",
       "    <tr>\n",
       "      <th>C</th>\n",
       "      <th></th>\n",
       "      <th></th>\n",
       "    </tr>\n",
       "  </thead>\n",
       "  <tbody>\n",
       "    <tr>\n",
       "      <th>21</th>\n",
       "      <td>Mina</td>\n",
       "      <td>NaN</td>\n",
       "    </tr>\n",
       "    <tr>\n",
       "      <th>23</th>\n",
       "      <td>Boby</td>\n",
       "      <td>Peter</td>\n",
       "    </tr>\n",
       "    <tr>\n",
       "      <th>24</th>\n",
       "      <td>Nicky</td>\n",
       "      <td>NaN</td>\n",
       "    </tr>\n",
       "    <tr>\n",
       "      <th>27</th>\n",
       "      <td>NaN</td>\n",
       "      <td>John</td>\n",
       "    </tr>\n",
       "  </tbody>\n",
       "</table>\n",
       "</div>"
      ],
      "text/plain": [
       "B  Graduate Masters\n",
       "C                  \n",
       "21     Mina     NaN\n",
       "23     Boby   Peter\n",
       "24    Nicky     NaN\n",
       "27      NaN    John"
      ]
     },
     "execution_count": 16,
     "metadata": {},
     "output_type": "execute_result"
    }
   ],
   "source": [
    "import pandas as pd\n",
    "import numpy as np\n",
    "\n",
    "df = pd.DataFrame({\n",
    "    \"A\": ['John', 'Boby', 'Mina', 'Peter', 'Nicky'],\n",
    "    'B': ['Masters', 'Graduate', 'Graduate', 'Masters', 'Graduate'],\n",
    "    'C': [27, 23, 21, 23, 24]\n",
    "})\n",
    "\n",
    "table = pd.pivot_table(df, values=\"C\", index=\"C\", columns=\"B\", aggfunc=\"sum\")\n",
    "table"
   ]
  },
  {
   "cell_type": "markdown",
   "id": "3eaa1222",
   "metadata": {},
   "source": [
    "### **Example 2: Handling Missing Data with fill_value**\n",
    "Using the fill_value parameter to replace missing values in the pivot table. This is helpful when we don’t want missing data to appear as NaN.\n",
    "<ul>\n",
    "<li><b>table = pd.pivot_table(df, values=’C’, index=[‘A’, ‘B’], fill_value=0):</b> Creating a pivot table that groups data by columns ‘A’ and ‘B’ and helps in aggregating values in column ‘C’ and it replaces any missing values with 0.</li>\n",
    "</ul>"
   ]
  },
  {
   "cell_type": "code",
   "execution_count": 19,
   "id": "22fc7e73",
   "metadata": {},
   "outputs": [
    {
     "data": {
      "text/html": [
       "<div>\n",
       "<style scoped>\n",
       "    .dataframe tbody tr th:only-of-type {\n",
       "        vertical-align: middle;\n",
       "    }\n",
       "\n",
       "    .dataframe tbody tr th {\n",
       "        vertical-align: top;\n",
       "    }\n",
       "\n",
       "    .dataframe thead th {\n",
       "        text-align: right;\n",
       "    }\n",
       "</style>\n",
       "<table border=\"1\" class=\"dataframe\">\n",
       "  <thead>\n",
       "    <tr style=\"text-align: right;\">\n",
       "      <th></th>\n",
       "      <th></th>\n",
       "      <th>C</th>\n",
       "    </tr>\n",
       "    <tr>\n",
       "      <th>A</th>\n",
       "      <th>B</th>\n",
       "      <th></th>\n",
       "    </tr>\n",
       "  </thead>\n",
       "  <tbody>\n",
       "    <tr>\n",
       "      <th>Body</th>\n",
       "      <th>Graduate</th>\n",
       "      <td>23.0</td>\n",
       "    </tr>\n",
       "    <tr>\n",
       "      <th>John</th>\n",
       "      <th>Masters</th>\n",
       "      <td>27.0</td>\n",
       "    </tr>\n",
       "    <tr>\n",
       "      <th>Mina</th>\n",
       "      <th>Graduate</th>\n",
       "      <td>21.0</td>\n",
       "    </tr>\n",
       "    <tr>\n",
       "      <th>Nicky</th>\n",
       "      <th>Graduate</th>\n",
       "      <td>0.0</td>\n",
       "    </tr>\n",
       "    <tr>\n",
       "      <th>Peter</th>\n",
       "      <th>Masters</th>\n",
       "      <td>23.0</td>\n",
       "    </tr>\n",
       "  </tbody>\n",
       "</table>\n",
       "</div>"
      ],
      "text/plain": [
       "                   C\n",
       "A     B             \n",
       "Body  Graduate  23.0\n",
       "John  Masters   27.0\n",
       "Mina  Graduate  21.0\n",
       "Nicky Graduate   0.0\n",
       "Peter Masters   23.0"
      ]
     },
     "execution_count": 19,
     "metadata": {},
     "output_type": "execute_result"
    }
   ],
   "source": [
    "import pandas as pd\n",
    "import numpy as np\n",
    "\n",
    "df = pd.DataFrame({\n",
    "    \"A\": [\"John\", \"Body\", \"Mina\", \"Peter\", \"Nicky\"],\n",
    "    \"B\": ['Masters', 'Graduate', 'Graduate', 'Masters', 'Graduate'],\n",
    "    'C': [27, 23, 21, 23, 0]\n",
    "})\n",
    "\n",
    "table = pd.pivot_table(df, values=\"C\", index=[\"A\", \"B\"], fill_value=0)\n",
    "table"
   ]
  },
  {
   "cell_type": "markdown",
   "id": "e3893647",
   "metadata": {},
   "source": [
    "### **Example 3: Adding Totals with margins**\n",
    "The marginsparameter adds total rows and columns to the pivot table. This is useful when we want to see overall totals for each row or column.\n",
    "<ul>\n",
    "<li><b>table = pd.pivot_table(df, values=’C’, index=[‘A’, ‘B’], aggfunc=’mean’, margins=True):</b> Creating a pivot table that groups data by columns ‘A’ and ‘B’ and helps in calculating mean of values in column ‘C’ and adds a total row and column with the overall mean (using margins=True).\n",
    "</ul>"
   ]
  },
  {
   "cell_type": "code",
   "execution_count": 20,
   "id": "af42bbea",
   "metadata": {},
   "outputs": [
    {
     "data": {
      "text/html": [
       "<div>\n",
       "<style scoped>\n",
       "    .dataframe tbody tr th:only-of-type {\n",
       "        vertical-align: middle;\n",
       "    }\n",
       "\n",
       "    .dataframe tbody tr th {\n",
       "        vertical-align: top;\n",
       "    }\n",
       "\n",
       "    .dataframe thead th {\n",
       "        text-align: right;\n",
       "    }\n",
       "</style>\n",
       "<table border=\"1\" class=\"dataframe\">\n",
       "  <thead>\n",
       "    <tr style=\"text-align: right;\">\n",
       "      <th></th>\n",
       "      <th></th>\n",
       "      <th>C</th>\n",
       "    </tr>\n",
       "    <tr>\n",
       "      <th>A</th>\n",
       "      <th>B</th>\n",
       "      <th></th>\n",
       "    </tr>\n",
       "  </thead>\n",
       "  <tbody>\n",
       "    <tr>\n",
       "      <th>Boby</th>\n",
       "      <th>Graduate</th>\n",
       "      <td>23.0</td>\n",
       "    </tr>\n",
       "    <tr>\n",
       "      <th>John</th>\n",
       "      <th>Masters</th>\n",
       "      <td>27.0</td>\n",
       "    </tr>\n",
       "    <tr>\n",
       "      <th>Mina</th>\n",
       "      <th>Graduate</th>\n",
       "      <td>21.0</td>\n",
       "    </tr>\n",
       "    <tr>\n",
       "      <th>Nicky</th>\n",
       "      <th>Graduate</th>\n",
       "      <td>24.0</td>\n",
       "    </tr>\n",
       "    <tr>\n",
       "      <th>Peter</th>\n",
       "      <th>Masters</th>\n",
       "      <td>23.0</td>\n",
       "    </tr>\n",
       "    <tr>\n",
       "      <th>All</th>\n",
       "      <th></th>\n",
       "      <td>23.6</td>\n",
       "    </tr>\n",
       "  </tbody>\n",
       "</table>\n",
       "</div>"
      ],
      "text/plain": [
       "                   C\n",
       "A     B             \n",
       "Boby  Graduate  23.0\n",
       "John  Masters   27.0\n",
       "Mina  Graduate  21.0\n",
       "Nicky Graduate  24.0\n",
       "Peter Masters   23.0\n",
       "All             23.6"
      ]
     },
     "execution_count": 20,
     "metadata": {},
     "output_type": "execute_result"
    }
   ],
   "source": [
    "import pandas as pd\n",
    "import numpy as np\n",
    "\n",
    "df = pd.DataFrame({\n",
    "    'A': ['John', 'Boby', 'Mina', 'Peter', 'Nicky'],\n",
    "    'B': ['Masters', 'Graduate', 'Graduate', 'Masters', 'Graduate'],\n",
    "    'C': [27, 23, 21, 23, 24]\n",
    "})\n",
    "\n",
    "table = pd.pivot_table(df, values=\"C\", index=[\"A\", \"B\"], aggfunc=\"mean\", margins=True)\n",
    "table"
   ]
  },
  {
   "cell_type": "markdown",
   "id": "ee8c1e1b",
   "metadata": {},
   "source": [
    "With pandas.pivot_table() we can create customizable summaries of our data which is required for specific analysis needs."
   ]
  }
 ],
 "metadata": {
  "kernelspec": {
   "display_name": "venv",
   "language": "python",
   "name": "python3"
  },
  "language_info": {
   "codemirror_mode": {
    "name": "ipython",
    "version": 3
   },
   "file_extension": ".py",
   "mimetype": "text/x-python",
   "name": "python",
   "nbconvert_exporter": "python",
   "pygments_lexer": "ipython3",
   "version": "3.13.3"
  }
 },
 "nbformat": 4,
 "nbformat_minor": 5
}
