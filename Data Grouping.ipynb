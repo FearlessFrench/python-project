{
 "cells": [
  {
   "cell_type": "markdown",
   "id": "f40b110f",
   "metadata": {},
   "source": [
    "# **Pandas GroupBy**"
   ]
  },
  {
   "cell_type": "markdown",
   "id": "bb641d2f",
   "metadata": {},
   "source": [
    "### **April 28, 2025 at 1:00 PM**"
   ]
  },
  {
   "cell_type": "markdown",
   "id": "304f55d8",
   "metadata": {},
   "source": [
    "### **Prerequisites**\n",
    "Before you proceed, make sure that you have the latest version of pandas available within a new virtual environment:\n",
    "\n",
    "<div class=\"alert alert-block alert-danger\">\n",
    "<b>Windows PowerShell</b>\n",
    "\n",
    "<b>PS> python -m venv venv</b>\n",
    "\n",
    "<b>PS> venv\\Scripts\\activate</b>\n",
    "\n",
    "<b>(venv) PS> python -m pip install pandas</b> \n",
    "</div>"
   ]
  },
  {
   "cell_type": "markdown",
   "id": "ef72bddb",
   "metadata": {},
   "source": [
    "### Example 1: U.S. Congress Dataset\n",
    "You’ll jump right into things by dissecting a dataset of historical members of Congress. You can read the CSV file into a pandas DataFrame with read_csv():"
   ]
  },
  {
   "cell_type": "code",
   "execution_count": 4,
   "id": "b9cd9f39",
   "metadata": {},
   "outputs": [
    {
     "name": "stderr",
     "output_type": "stream",
     "text": [
      "<>:11: SyntaxWarning: invalid escape sequence '\\l'\n",
      "<>:11: SyntaxWarning: invalid escape sequence '\\l'\n",
      "C:\\Users\\Christopher French\\AppData\\Local\\Temp\\ipykernel_6740\\35383943.py:11: SyntaxWarning: invalid escape sequence '\\l'\n",
      "  \"groupby-data\\legislators-historical.csv\",\n"
     ]
    }
   ],
   "source": [
    "import pandas as pd\n",
    "\n",
    "dtypes = {\n",
    "    \"first_name\": \"category\",\n",
    "    \"gender\": \"category\",\n",
    "    \"type\": \"category\",\n",
    "    \"state\": \"category\",\n",
    "    \"party\": \"category\",\n",
    "}\n",
    "df = pd.read_csv(\n",
    "    \"groupby-data\\legislators-historical.csv\",\n",
    "    dtype=dtypes,\n",
    "    usecols=list(dtypes) + [\"birthday\", \"last_name\"],\n",
    "    parse_dates=[\"birthday\"]\n",
    ")"
   ]
  },
  {
   "cell_type": "markdown",
   "id": "237a1f72",
   "metadata": {},
   "source": [
    "The dataset contains members’ first and last names, birthday, gender, type (\"rep\" for House of Representatives or \"sen\" for Senate), U.S. state, and political party. You can use df.tail() to view the last few rows of the dataset:"
   ]
  },
  {
   "cell_type": "code",
   "execution_count": 6,
   "id": "b5e12046",
   "metadata": {},
   "outputs": [
    {
     "data": {
      "text/html": [
       "<div>\n",
       "<style scoped>\n",
       "    .dataframe tbody tr th:only-of-type {\n",
       "        vertical-align: middle;\n",
       "    }\n",
       "\n",
       "    .dataframe tbody tr th {\n",
       "        vertical-align: top;\n",
       "    }\n",
       "\n",
       "    .dataframe thead th {\n",
       "        text-align: right;\n",
       "    }\n",
       "</style>\n",
       "<table border=\"1\" class=\"dataframe\">\n",
       "  <thead>\n",
       "    <tr style=\"text-align: right;\">\n",
       "      <th></th>\n",
       "      <th>last_name</th>\n",
       "      <th>first_name</th>\n",
       "      <th>birthday</th>\n",
       "      <th>gender</th>\n",
       "      <th>type</th>\n",
       "      <th>state</th>\n",
       "      <th>party</th>\n",
       "    </tr>\n",
       "  </thead>\n",
       "  <tbody>\n",
       "    <tr>\n",
       "      <th>11970</th>\n",
       "      <td>Garrett</td>\n",
       "      <td>Thomas</td>\n",
       "      <td>1972-03-27</td>\n",
       "      <td>M</td>\n",
       "      <td>rep</td>\n",
       "      <td>VA</td>\n",
       "      <td>Republican</td>\n",
       "    </tr>\n",
       "    <tr>\n",
       "      <th>11971</th>\n",
       "      <td>Handel</td>\n",
       "      <td>Karen</td>\n",
       "      <td>1962-04-18</td>\n",
       "      <td>F</td>\n",
       "      <td>rep</td>\n",
       "      <td>GA</td>\n",
       "      <td>Republican</td>\n",
       "    </tr>\n",
       "    <tr>\n",
       "      <th>11972</th>\n",
       "      <td>Jones</td>\n",
       "      <td>Brenda</td>\n",
       "      <td>1959-10-24</td>\n",
       "      <td>F</td>\n",
       "      <td>rep</td>\n",
       "      <td>MI</td>\n",
       "      <td>Democrat</td>\n",
       "    </tr>\n",
       "    <tr>\n",
       "      <th>11973</th>\n",
       "      <td>Marino</td>\n",
       "      <td>Tom</td>\n",
       "      <td>1952-08-15</td>\n",
       "      <td>M</td>\n",
       "      <td>rep</td>\n",
       "      <td>PA</td>\n",
       "      <td>Republican</td>\n",
       "    </tr>\n",
       "    <tr>\n",
       "      <th>11974</th>\n",
       "      <td>Jones</td>\n",
       "      <td>Walter</td>\n",
       "      <td>1943-02-10</td>\n",
       "      <td>M</td>\n",
       "      <td>rep</td>\n",
       "      <td>NC</td>\n",
       "      <td>Republican</td>\n",
       "    </tr>\n",
       "  </tbody>\n",
       "</table>\n",
       "</div>"
      ],
      "text/plain": [
       "      last_name first_name   birthday gender type state       party\n",
       "11970   Garrett     Thomas 1972-03-27      M  rep    VA  Republican\n",
       "11971    Handel      Karen 1962-04-18      F  rep    GA  Republican\n",
       "11972     Jones     Brenda 1959-10-24      F  rep    MI    Democrat\n",
       "11973    Marino        Tom 1952-08-15      M  rep    PA  Republican\n",
       "11974     Jones     Walter 1943-02-10      M  rep    NC  Republican"
      ]
     },
     "execution_count": 6,
     "metadata": {},
     "output_type": "execute_result"
    }
   ],
   "source": [
    "df.tail()"
   ]
  },
  {
   "cell_type": "markdown",
   "id": "05c463fb",
   "metadata": {},
   "source": [
    "The DataFrame uses categorical dtypes for space efficiency:"
   ]
  },
  {
   "cell_type": "code",
   "execution_count": 7,
   "id": "2f695da7",
   "metadata": {},
   "outputs": [
    {
     "data": {
      "text/plain": [
       "last_name             object\n",
       "first_name          category\n",
       "birthday      datetime64[ns]\n",
       "gender              category\n",
       "type                category\n",
       "state               category\n",
       "party               category\n",
       "dtype: object"
      ]
     },
     "execution_count": 7,
     "metadata": {},
     "output_type": "execute_result"
    }
   ],
   "source": [
    "df.dtypes"
   ]
  },
  {
   "cell_type": "markdown",
   "id": "df1d36c6",
   "metadata": {},
   "source": [
    "You can see that most columns of the dataset have the type category, which reduces the memory load on your machine."
   ]
  },
  {
   "cell_type": "markdown",
   "id": "eb89a30d",
   "metadata": {},
   "source": [
    "### The Hello, World! of pandas GroupBy\n",
    "Now that you’re familiar with the dataset, you’ll start with a Hello, World! for the pandas GroupBy operation. What is the count of Congressional members, on a state-by-state basis, over the entire history of the dataset? In SQL, you could find this answer with a SELECT statement:"
   ]
  },
  {
   "cell_type": "markdown",
   "id": "e9a97b5c",
   "metadata": {},
   "source": [
    "**SQL**\n",
    "\n",
    "**SELECT state, count(name)**\n",
    "\n",
    "**FROM df**\n",
    "\n",
    "**GROUP BY state**\n",
    "\n",
    "**ORDER BY state;**"
   ]
  },
  {
   "cell_type": "code",
   "execution_count": 8,
   "id": "8ea2d463",
   "metadata": {},
   "outputs": [
    {
     "name": "stderr",
     "output_type": "stream",
     "text": [
      "C:\\Users\\Christopher French\\AppData\\Local\\Temp\\ipykernel_6740\\3052374061.py:2: FutureWarning: The default of observed=False is deprecated and will be changed to True in a future version of pandas. Pass observed=False to retain current behavior or observed=True to adopt the future default and silence this warning.\n",
      "  n_by_state = df.groupby(\"state\")[\"last_name\"].count()\n"
     ]
    },
    {
     "data": {
      "text/plain": [
       "state\n",
       "AK     16\n",
       "AL    206\n",
       "AR    117\n",
       "AS      2\n",
       "AZ     48\n",
       "CA    361\n",
       "CO     90\n",
       "CT    240\n",
       "DC      2\n",
       "DE     97\n",
       "Name: last_name, dtype: int64"
      ]
     },
     "execution_count": 8,
     "metadata": {},
     "output_type": "execute_result"
    }
   ],
   "source": [
    "# Here’s the near-equivalent in pandas:\n",
    "n_by_state = df.groupby(\"state\")[\"last_name\"].count()\n",
    "n_by_state.head(10)"
   ]
  },
  {
   "cell_type": "markdown",
   "id": "6d2cdd4a",
   "metadata": {},
   "source": [
    "You call .groupby() and pass the name of the column that you want to group on, which is \"state\". Then, you use [\"last_name\"] to specify the columns on which you want to perform the actual aggregation."
   ]
  },
  {
   "cell_type": "markdown",
   "id": "d59aea0b",
   "metadata": {},
   "source": [
    "You can pass a lot more than just a single column name to .groupby() as the first argument. You can also specify any of the following:\n",
    "\n",
    "\n",
    "<ul>\n",
    "    <li>A list of multiple column names</li>\n",
    "    <li>A dict or pandas Series</li>\n",
    "    <li>A NumPy array or pandas Index, or an array-like iterable of these</li>\n",
    "    </ul>"
   ]
  },
  {
   "cell_type": "code",
   "execution_count": 9,
   "id": "1a6c69ff",
   "metadata": {},
   "outputs": [
    {
     "name": "stderr",
     "output_type": "stream",
     "text": [
      "C:\\Users\\Christopher French\\AppData\\Local\\Temp\\ipykernel_6740\\1541042040.py:4: FutureWarning: The default of observed=False is deprecated and will be changed to True in a future version of pandas. Pass observed=False to retain current behavior or observed=True to adopt the future default and silence this warning.\n",
      "  df.groupby([\"state\", \"gender\"])[\"last_name\"].count()\n"
     ]
    },
    {
     "data": {
      "text/plain": [
       "state  gender\n",
       "AK     F           0\n",
       "       M          16\n",
       "AL     F           3\n",
       "       M         203\n",
       "AR     F           5\n",
       "                ... \n",
       "WI     M         196\n",
       "WV     F           1\n",
       "       M         119\n",
       "WY     F           2\n",
       "       M          38\n",
       "Name: last_name, Length: 116, dtype: int64"
      ]
     },
     "execution_count": 9,
     "metadata": {},
     "output_type": "execute_result"
    }
   ],
   "source": [
    "# Here’s an example of grouping jointly on two columns,\n",
    "# which finds the count of Congressional members broken out by state and then by gender:\n",
    "\n",
    "df.groupby([\"state\", \"gender\"])[\"last_name\"].count()"
   ]
  },
  {
   "cell_type": "markdown",
   "id": "d9815d79",
   "metadata": {},
   "source": [
    "The analogous **SQL query** would look like this:\n",
    "\n",
    "**SELECT state, gender, count(name)**\n",
    "\n",
    "**FROM df**\n",
    "\n",
    "**GROUP BY state, gender**\n",
    "\n",
    "**ORDER BY state, gender;**\n",
    "\n",
    "As you’ll see next, .groupby() and the comparable SQL statements are close cousins, but they’re often not functionally identical."
   ]
  },
  {
   "cell_type": "code",
   "execution_count": 11,
   "metadata": {},
   "outputs": [
    {
     "name": "stdout",
     "output_type": "stream",
     "text": [
      "<class 'pandas.core.series.Series'>\n"
     ]
    },
    {
     "name": "stderr",
     "output_type": "stream",
     "text": [
      "C:\\Users\\Christopher French\\AppData\\Local\\Temp\\ipykernel_6740\\3416526500.py:1: FutureWarning: The default of observed=False is deprecated and will be changed to True in a future version of pandas. Pass observed=False to retain current behavior or observed=True to adopt the future default and silence this warning.\n",
      "  n_by_state_gender = df.groupby([\"state\", \"gender\"])[\"last_name\"].count()\n"
     ]
    }
   ],
   "source": [
    "n_by_state_gender = df.groupby([\"state\", \"gender\"])[\"last_name\"].count()\n",
    "print(type(n_by_state_gender))"
   ]
  },
  {
   "cell_type": "code",
   "execution_count": 12,
   "id": "97843d33",
   "metadata": {},
   "outputs": [
    {
     "data": {
      "text/plain": [
       "MultiIndex([('AK', 'F'),\n",
       "            ('AK', 'M'),\n",
       "            ('AL', 'F'),\n",
       "            ('AL', 'M'),\n",
       "            ('AR', 'F')],\n",
       "           names=['state', 'gender'])"
      ]
     },
     "execution_count": 12,
     "metadata": {},
     "output_type": "execute_result"
    }
   ],
   "source": [
    "n_by_state_gender.index[:5]"
   ]
  },
  {
   "cell_type": "markdown",
   "id": "c4081924",
   "metadata": {},
   "source": [
    "To more closely emulate the SQL result and push the grouped-on columns back into columns in the result, you can use as_index=False:"
   ]
  },
  {
   "cell_type": "code",
   "execution_count": 13,
   "id": "4e571eb8",
   "metadata": {},
   "outputs": [
    {
     "name": "stderr",
     "output_type": "stream",
     "text": [
      "C:\\Users\\Christopher French\\AppData\\Local\\Temp\\ipykernel_6740\\1045572165.py:1: FutureWarning: The default of observed=False is deprecated and will be changed to True in a future version of pandas. Pass observed=False to retain current behavior or observed=True to adopt the future default and silence this warning.\n",
      "  df.groupby([\"state\", \"gender\"], as_index=False)[\"last_name\"].count()\n"
     ]
    },
    {
     "data": {
      "text/html": [
       "<div>\n",
       "<style scoped>\n",
       "    .dataframe tbody tr th:only-of-type {\n",
       "        vertical-align: middle;\n",
       "    }\n",
       "\n",
       "    .dataframe tbody tr th {\n",
       "        vertical-align: top;\n",
       "    }\n",
       "\n",
       "    .dataframe thead th {\n",
       "        text-align: right;\n",
       "    }\n",
       "</style>\n",
       "<table border=\"1\" class=\"dataframe\">\n",
       "  <thead>\n",
       "    <tr style=\"text-align: right;\">\n",
       "      <th></th>\n",
       "      <th>state</th>\n",
       "      <th>gender</th>\n",
       "      <th>last_name</th>\n",
       "    </tr>\n",
       "  </thead>\n",
       "  <tbody>\n",
       "    <tr>\n",
       "      <th>0</th>\n",
       "      <td>AK</td>\n",
       "      <td>F</td>\n",
       "      <td>0</td>\n",
       "    </tr>\n",
       "    <tr>\n",
       "      <th>1</th>\n",
       "      <td>AK</td>\n",
       "      <td>M</td>\n",
       "      <td>16</td>\n",
       "    </tr>\n",
       "    <tr>\n",
       "      <th>2</th>\n",
       "      <td>AL</td>\n",
       "      <td>F</td>\n",
       "      <td>3</td>\n",
       "    </tr>\n",
       "    <tr>\n",
       "      <th>3</th>\n",
       "      <td>AL</td>\n",
       "      <td>M</td>\n",
       "      <td>203</td>\n",
       "    </tr>\n",
       "    <tr>\n",
       "      <th>4</th>\n",
       "      <td>AR</td>\n",
       "      <td>F</td>\n",
       "      <td>5</td>\n",
       "    </tr>\n",
       "    <tr>\n",
       "      <th>...</th>\n",
       "      <td>...</td>\n",
       "      <td>...</td>\n",
       "      <td>...</td>\n",
       "    </tr>\n",
       "    <tr>\n",
       "      <th>111</th>\n",
       "      <td>WI</td>\n",
       "      <td>M</td>\n",
       "      <td>196</td>\n",
       "    </tr>\n",
       "    <tr>\n",
       "      <th>112</th>\n",
       "      <td>WV</td>\n",
       "      <td>F</td>\n",
       "      <td>1</td>\n",
       "    </tr>\n",
       "    <tr>\n",
       "      <th>113</th>\n",
       "      <td>WV</td>\n",
       "      <td>M</td>\n",
       "      <td>119</td>\n",
       "    </tr>\n",
       "    <tr>\n",
       "      <th>114</th>\n",
       "      <td>WY</td>\n",
       "      <td>F</td>\n",
       "      <td>2</td>\n",
       "    </tr>\n",
       "    <tr>\n",
       "      <th>115</th>\n",
       "      <td>WY</td>\n",
       "      <td>M</td>\n",
       "      <td>38</td>\n",
       "    </tr>\n",
       "  </tbody>\n",
       "</table>\n",
       "<p>116 rows × 3 columns</p>\n",
       "</div>"
      ],
      "text/plain": [
       "    state gender  last_name\n",
       "0      AK      F          0\n",
       "1      AK      M         16\n",
       "2      AL      F          3\n",
       "3      AL      M        203\n",
       "4      AR      F          5\n",
       "..    ...    ...        ...\n",
       "111    WI      M        196\n",
       "112    WV      F          1\n",
       "113    WV      M        119\n",
       "114    WY      F          2\n",
       "115    WY      M         38\n",
       "\n",
       "[116 rows x 3 columns]"
      ]
     },
     "execution_count": 13,
     "metadata": {},
     "output_type": "execute_result"
    }
   ],
   "source": [
    "df.groupby([\"state\", \"gender\"], as_index=False)[\"last_name\"].count()"
   ]
  },
  {
   "cell_type": "markdown",
   "id": "2f001ded",
   "metadata": {},
   "source": [
    "<div class=\"alert alert-block alert-info\">\n",
    "<b>Note:</b> In df.groupby([\"state\", \"gender\"])[\"last_name\"].count(), you could also use .size() instead of .count(), since you know that there are no NaN last names. Using .count() excludes NaN values, while .size() includes everything, NaN or not.</div>"
   ]
  },
  {
   "cell_type": "code",
   "execution_count": 14,
   "id": "01695483",
   "metadata": {},
   "outputs": [
    {
     "name": "stderr",
     "output_type": "stream",
     "text": [
      "C:\\Users\\Christopher French\\AppData\\Local\\Temp\\ipykernel_6740\\3350911914.py:2: FutureWarning: The default of observed=False is deprecated and will be changed to True in a future version of pandas. Pass observed=False to retain current behavior or observed=True to adopt the future default and silence this warning.\n",
      "  df.groupby(\"state\", sort=False)[\"last_name\"].count()\n"
     ]
    },
    {
     "data": {
      "text/plain": [
       "state\n",
       "DE      97\n",
       "VA     432\n",
       "SC     251\n",
       "MD     305\n",
       "PA    1053\n",
       "MA     426\n",
       "NJ     359\n",
       "GA     309\n",
       "NY    1461\n",
       "NC     354\n",
       "CT     240\n",
       "VT     115\n",
       "KY     373\n",
       "RI     107\n",
       "NH     181\n",
       "TN     299\n",
       "OH     674\n",
       "MS     155\n",
       "OL       2\n",
       "IN     341\n",
       "LA     197\n",
       "IL     486\n",
       "MO     333\n",
       "AL     206\n",
       "AR     117\n",
       "ME     175\n",
       "FL     155\n",
       "MI     294\n",
       "IA     202\n",
       "WI     196\n",
       "TX     256\n",
       "CA     361\n",
       "OR      89\n",
       "MN     160\n",
       "NM      54\n",
       "NE     127\n",
       "WA      95\n",
       "KS     141\n",
       "UT      53\n",
       "NV      56\n",
       "CO      90\n",
       "WV     120\n",
       "DK       9\n",
       "AZ      48\n",
       "ID      59\n",
       "MT      52\n",
       "WY      40\n",
       "DC       2\n",
       "ND      44\n",
       "SD      51\n",
       "OK      92\n",
       "HI      23\n",
       "PR      19\n",
       "AK      16\n",
       "PI      13\n",
       "VI       4\n",
       "GU       4\n",
       "AS       2\n",
       "Name: last_name, dtype: int64"
      ]
     },
     "execution_count": 14,
     "metadata": {},
     "output_type": "execute_result"
    }
   ],
   "source": [
    "# Don't sort results by sort keys\n",
    "df.groupby(\"state\", sort=False)[\"last_name\"].count() "
   ]
  },
  {
   "cell_type": "markdown",
   "id": "84f1acc2",
   "metadata": {},
   "source": [
    "### How pandas GroupBy Works\n",
    "Before you get any further into the details, take a step back to look at .groupby() itself:\n",
    "<div class=\"alert alert-block alert-info\">\n",
    "<b>Note:</b> In this tutorial, the generic term pandas GroupBy object refers to both DataFrameGroupBy and SeriesGroupBy objects, which have a lot in common.</div>"
   ]
  },
  {
   "cell_type": "code",
   "execution_count": 15,
   "id": "2b4c8123",
   "metadata": {},
   "outputs": [
    {
     "name": "stdout",
     "output_type": "stream",
     "text": [
      "<pandas.core.groupby.generic.DataFrameGroupBy object at 0x0000012C2F3C7680>\n"
     ]
    },
    {
     "name": "stderr",
     "output_type": "stream",
     "text": [
      "C:\\Users\\Christopher French\\AppData\\Local\\Temp\\ipykernel_6740\\712161090.py:1: FutureWarning: The default of observed=False is deprecated and will be changed to True in a future version of pandas. Pass observed=False to retain current behavior or observed=True to adopt the future default and silence this warning.\n",
      "  by_state = df.groupby(\"state\")\n"
     ]
    }
   ],
   "source": [
    "by_state = df.groupby(\"state\")\n",
    "print(by_state)"
   ]
  },
  {
   "cell_type": "markdown",
   "id": "eb0f038b",
   "metadata": {},
   "source": [
    "What is DataFrameGroupBy? Its .__str__() value that the print function shows doesn’t give you much information about what it actually is or how it works. The reason that a DataFrameGroupBy object can be difficult to wrap your head around is that it’s lazy in nature. It doesn’t really do any operations to produce a useful result until you tell it to."
   ]
  },
  {
   "cell_type": "markdown",
   "id": "4aad4963",
   "metadata": {},
   "source": [
    "One term that’s frequently used alongside .groupby() is split-apply-combine. This refers to a chain of three steps:\n",
    "\n",
    "<ol>\n",
    "    <li>Split a table into groups.</li>\n",
    "    <li>Apply some operations to each of those smaller tables.</li>\n",
    "    <li>Combine the results.</li>\n",
    "</ol>\n",
    "\n",
    "It can be difficult to inspect df.groupby(\"state\") because it does virtually none of these things until you do something with the resulting object. A pandas GroupBy object delays virtually every part of the split-apply-combine process until you invoke a method on it.\n",
    "\n",
    "So, how can you mentally separate the split, apply, and combine stages if you can’t see any of them happening in isolation? One useful way to inspect a pandas GroupBy object and see the splitting in action is to iterate over it:"
   ]
  },
  {
   "cell_type": "code",
   "execution_count": 18,
   "id": "e87c4097",
   "metadata": {},
   "outputs": [
    {
     "name": "stdout",
     "output_type": "stream",
     "text": [
      "First 2 entries for 'AK'\n",
      "------------------------\n",
      "     last_name first_name   birthday gender type state        party\n",
      "6619    Waskey      Frank 1875-04-20      M  rep    AK     Democrat\n",
      "6647      Cale     Thomas 1848-09-17      M  rep    AK  Independent\n",
      "\n",
      "First 2 entries for 'AL'\n",
      "------------------------\n",
      "    last_name first_name   birthday gender type state       party\n",
      "912   Crowell       John 1780-09-18      M  rep    AL  Republican\n",
      "991    Walker       John 1783-08-12      M  sen    AL  Republican\n",
      "\n",
      "First 2 entries for 'AR'\n",
      "------------------------\n",
      "     last_name first_name   birthday gender type state party\n",
      "1001     Bates      James 1788-08-25      M  rep    AR   NaN\n",
      "1279    Conway      Henry 1793-03-18      M  rep    AR   NaN\n",
      "\n",
      "First 2 entries for 'AS'\n",
      "------------------------\n",
      "          last_name first_name   birthday gender type state     party\n",
      "10797         Sunia       Fofó 1937-03-13      M  rep    AS  Democrat\n",
      "11755  Faleomavaega        Eni 1943-08-15      M  rep    AS  Democrat\n",
      "\n",
      "First 2 entries for 'AZ'\n",
      "------------------------\n",
      "     last_name first_name   birthday gender type state       party\n",
      "3674    Poston    Charles 1825-04-20      M  rep    AZ  Republican\n",
      "3725   Goodwin       John 1824-10-18      M  rep    AZ  Republican\n",
      "\n",
      "First 2 entries for 'CA'\n",
      "------------------------\n",
      "     last_name first_name   birthday gender type state        party\n",
      "2650   Gilbert     Edward        NaT      M  rep    CA     Democrat\n",
      "2742    Wright     George 1816-06-04      M  rep    CA  Independent\n",
      "\n",
      "First 2 entries for 'CO'\n",
      "------------------------\n",
      "     last_name first_name   birthday gender type state  \\\n",
      "3614    Bennet      Hiram 1826-09-02      M  rep    CO   \n",
      "3933  Bradford      Allen 1815-07-23      M  rep    CO   \n",
      "\n",
      "                        party  \n",
      "3614  Conservative Republican  \n",
      "3933               Republican  \n",
      "\n",
      "First 2 entries for 'CT'\n",
      "------------------------\n",
      "     last_name first_name   birthday gender type state               party\n",
      "14  Huntington   Benjamin 1736-04-19      M  rep    CT                 NaN\n",
      "16     Johnson    William 1727-10-07      M  sen    CT  Pro-Administration\n",
      "\n",
      "First 2 entries for 'DC'\n",
      "------------------------\n",
      "      last_name first_name   birthday gender type state       party\n",
      "4232    Chipman     Norton 1834-03-07      M  rep    DC  Republican\n",
      "10821  Fauntroy     Walter 1933-02-06      M  rep    DC    Democrat\n",
      "\n",
      "First 2 entries for 'DE'\n",
      "------------------------\n",
      "   last_name first_name   birthday gender type state                party\n",
      "0    Bassett    Richard 1745-04-02      M  sen    DE  Anti-Administration\n",
      "40      Read     George 1733-09-18      M  sen    DE                  NaN\n",
      "\n",
      "First 2 entries for 'DK'\n",
      "------------------------\n",
      "     last_name first_name   birthday gender type state     party\n",
      "3642     Jayne    William 1826-10-08      M  rep    DK       NaN\n",
      "3687      Todd       John 1814-04-04      M  rep    DK  Democrat\n",
      "\n",
      "First 2 entries for 'FL'\n",
      "------------------------\n",
      "      last_name first_name   birthday gender type state party\n",
      "1031  Hernández     Joseph 1788-05-26      M  rep    FL   NaN\n",
      "1090       Call    Richard 1792-10-24      M  rep    FL   NaN\n",
      "\n",
      "First 2 entries for 'GA'\n",
      "------------------------\n",
      "   last_name first_name   birthday gender type state                party\n",
      "8        Few    William 1748-06-08      M  sen    GA  Anti-Administration\n",
      "20   Mathews     George 1739-08-30      M  rep    GA                  NaN\n",
      "\n",
      "First 2 entries for 'GU'\n",
      "------------------------\n",
      "      last_name first_name   birthday gender type state       party\n",
      "10704   Won Pat    Antonio 1908-12-10      M  rep    GU    Democrat\n",
      "10874      Blaz        Ben 1928-02-14      M  rep    GU  Republican\n",
      "\n",
      "First 2 entries for 'HI'\n",
      "------------------------\n",
      "     last_name first_name   birthday gender type state       party\n",
      "6395    Wilcox     Robert 1855-02-15      M  rep    HI         NaN\n",
      "7524   Baldwin      Henry 1871-01-12      M  rep    HI  Republican\n",
      "\n",
      "First 2 entries for 'IA'\n",
      "------------------------\n",
      "     last_name first_name   birthday gender type state     party\n",
      "1931   Chapman    William 1808-08-11      M  rep    IA  Democrat\n",
      "2391  Hastings   Serranus 1813-11-22      M  rep    IA  Democrat\n",
      "\n",
      "First 2 entries for 'ID'\n",
      "------------------------\n",
      "     last_name first_name   birthday gender type state       party\n",
      "3693   Wallace    William 1811-07-19      M  rep    ID  Republican\n",
      "3846  Holbrook     Edward 1836-05-06      M  rep    ID    Democrat\n",
      "\n",
      "First 2 entries for 'IL'\n",
      "------------------------\n",
      "      last_name first_name   birthday gender type state party\n",
      "595        Bond   Shadrack 1773-11-24      M  rep    IL   NaN\n",
      "772  Stephenson   Benjamin        NaT      M  rep    IL   NaN\n",
      "\n",
      "First 2 entries for 'IN'\n",
      "------------------------\n",
      "    last_name first_name   birthday gender type state       party\n",
      "431     Parke   Benjamin 1777-09-22      M  rep    IN         NaN\n",
      "985    Taylor     Waller        NaT      M  sen    IN  Republican\n",
      "\n",
      "First 2 entries for 'KS'\n",
      "------------------------\n",
      "      last_name first_name   birthday gender type state       party\n",
      "3163  Whitfield       John 1818-03-11      M  rep    KS    Democrat\n",
      "3422    Parrott     Marcus 1828-10-27      M  rep    KS  Republican\n",
      "\n",
      "First 2 entries for 'KY'\n",
      "------------------------\n",
      "    last_name   first_name birthday gender type state                party\n",
      "55    Edwards         John      NaT      M  sen    KY  Anti-Administration\n",
      "113   Greenup  Christopher      NaT      M  rep    KY           Republican\n",
      "\n",
      "First 2 entries for 'LA'\n",
      "------------------------\n",
      "     last_name first_name birthday gender type state       party\n",
      "584  Destréhan       Jean      NaT      M  sen    LA     Unknown\n",
      "585   Magruder      Allan      NaT      M  sen    LA  Republican\n",
      "\n",
      "First 2 entries for 'MA'\n",
      "------------------------\n",
      "   last_name first_name   birthday gender type state               party\n",
      "6     Dalton   Tristram 1738-05-28      M  sen    MA  Pro-Administration\n",
      "12     Grout   Jonathan 1737-07-23      M  rep    MA                 NaN\n",
      "\n",
      "First 2 entries for 'MD'\n",
      "------------------------\n",
      "  last_name first_name   birthday gender type state party\n",
      "3   Carroll     Daniel 1730-07-22      M  rep    MD   NaN\n",
      "5    Contee   Benjamin        NaT      M  rep    MD   NaN\n",
      "\n",
      "First 2 entries for 'ME'\n",
      "------------------------\n",
      "     last_name first_name   birthday gender type state       party\n",
      "1019      Dane     Joseph 1778-10-25      M  rep    ME  Federalist\n",
      "1029    Harris       Mark 1779-01-27      M  rep    ME  Republican\n",
      "\n",
      "First 2 entries for 'MI'\n",
      "------------------------\n",
      "     last_name first_name   birthday gender type state party\n",
      "1062    Sibley    Solomon 1769-10-07      M  rep    MI   NaN\n",
      "1133   Richard    Gabriel 1767-10-15      M  rep    MI   NaN\n",
      "\n",
      "First 2 entries for 'MN'\n",
      "------------------------\n",
      "      last_name first_name   birthday gender type state     party\n",
      "2866     Sibley      Henry 1811-02-20      M  rep    MN       NaN\n",
      "3241  Kingsbury    William 1828-06-04      M  rep    MN  Democrat\n",
      "\n",
      "First 2 entries for 'MO'\n",
      "------------------------\n",
      "     last_name first_name   birthday gender type state party\n",
      "627  Hempstead     Edward 1780-06-03      M  rep    MO   NaN\n",
      "712     Easton      Rufus 1774-05-04      M  rep    MO   NaN\n",
      "\n",
      "First 2 entries for 'MS'\n",
      "------------------------\n",
      "    last_name  first_name   birthday gender type state party\n",
      "256    Greene      Thomas 1758-02-26      M  rep    MS   NaN\n",
      "260    Hunter  Narsworthy        NaT      M  rep    MS   NaN\n",
      "\n",
      "First 2 entries for 'MT'\n",
      "------------------------\n",
      "      last_name first_name   birthday gender type state     party\n",
      "3756     McLean     Samuel 1826-08-07      M  rep    MT  Democrat\n",
      "3941  Cavanaugh      James 1823-07-04      M  rep    MT  Democrat\n",
      "\n",
      "First 2 entries for 'NC'\n",
      "------------------------\n",
      "   last_name first_name   birthday gender type state               party\n",
      "13   Hawkins   Benjamin 1754-08-15      M  sen    NC  Pro-Administration\n",
      "17  Johnston     Samuel 1733-12-15      M  sen    NC  Pro-Administration\n",
      "\n",
      "First 2 entries for 'ND'\n",
      "------------------------\n",
      "     last_name first_name   birthday gender type state       party\n",
      "5384     Casey      Lyman 1837-05-06      M  sen    ND  Republican\n",
      "5479    Pierce    Gilbert 1839-01-11      M  sen    ND  Republican\n",
      "\n",
      "First 2 entries for 'NE'\n",
      "------------------------\n",
      "     last_name first_name   birthday gender type state     party\n",
      "2954  Giddings   Napoleon 1816-01-02      M  rep    NE  Democrat\n",
      "3068   Chapman       Bird 1821-08-24      M  rep    NE  Democrat\n",
      "\n",
      "First 2 entries for 'NH'\n",
      "------------------------\n",
      "    last_name first_name   birthday gender type state       party\n",
      "99    Wingate      Paine 1739-05-14      M  rep    NH         NaN\n",
      "120   Langdon       John 1741-06-26      M  sen    NH  Republican\n",
      "\n",
      "First 2 entries for 'NJ'\n",
      "------------------------\n",
      "   last_name first_name   birthday gender type state               party\n",
      "7      Elmer   Jonathan 1745-11-29      M  sen    NJ  Pro-Administration\n",
      "23  Paterson    William 1745-12-24      M  sen    NJ  Pro-Administration\n",
      "\n",
      "First 2 entries for 'NM'\n",
      "------------------------\n",
      "      last_name first_name   birthday gender type state     party\n",
      "2885  Weightman    Richard 1816-12-28      M  rep    NM  Democrat\n",
      "3420      Otero     Miguel 1829-06-21      M  rep    NM       NaN\n",
      "\n",
      "First 2 entries for 'NV'\n",
      "------------------------\n",
      "        last_name first_name   birthday gender type state       party\n",
      "3510  Cradlebaugh       John 1819-02-22      M  rep    NV         NaN\n",
      "3664         Mott     Gordon 1812-10-21      M  rep    NV  Republican\n",
      "\n",
      "First 2 entries for 'NY'\n",
      "------------------------\n",
      "         last_name first_name   birthday gender type state party\n",
      "9            Floyd    William 1734-12-17      M  rep    NY   NaN\n",
      "26  Van Rensselaer   Jeremiah 1738-08-27      M  rep    NY   NaN\n",
      "\n",
      "First 2 entries for 'OH'\n",
      "------------------------\n",
      "    last_name first_name   birthday gender type state       party\n",
      "226  McMillan    William 1764-03-02      M  rep    OH         NaN\n",
      "254   Fearing       Paul 1762-02-28      M  rep    OH  Federalist\n",
      "\n",
      "First 2 entries for 'OK'\n",
      "------------------------\n",
      "     last_name first_name   birthday gender type state        party\n",
      "5601    Harvey      David 1845-03-20      M  rep    OK   Republican\n",
      "6060  Callahan      James 1852-12-19      M  rep    OK  Free Silver\n",
      "\n",
      "First 2 entries for 'OL'\n",
      "------------------------\n",
      "    last_name first_name   birthday gender type state party\n",
      "404     Clark     Daniel        NaT      M  rep    OL   NaN\n",
      "503   Poydras     Julien 1740-04-03      M  rep    OL   NaN\n",
      "\n",
      "First 2 entries for 'OR'\n",
      "------------------------\n",
      "     last_name first_name   birthday gender type state     party\n",
      "2728  Thurston     Samuel 1816-04-15      M  rep    OR  Democrat\n",
      "3398      Lane     Joseph 1801-12-14      M  sen    OR  Democrat\n",
      "\n",
      "First 2 entries for 'PA'\n",
      "------------------------\n",
      "   last_name first_name   birthday gender type state                party\n",
      "4     Clymer     George 1739-03-16      M  rep    PA                  NaN\n",
      "19    Maclay    William 1737-07-20      M  sen    PA  Anti-Administration\n",
      "\n",
      "First 2 entries for 'PI'\n",
      "------------------------\n",
      "             last_name first_name   birthday gender type state party\n",
      "6835            Ocampo      Pablo 1853-01-25      M  rep    PI   NaN\n",
      "6939  Legarda Y Tuason     Benito 1853-09-27      M  rep    PI   NaN\n",
      "\n",
      "First 2 entries for 'PR'\n",
      "------------------------\n",
      "      last_name first_name   birthday gender type state       party\n",
      "6426    Degetau   Federico 1862-12-05      M  rep    PR  Republican\n",
      "6811  Larrinaga      Tulio 1847-01-15      M  rep    PR    Unionist\n",
      "\n",
      "First 2 entries for 'RI'\n",
      "------------------------\n",
      "    last_name first_name   birthday gender type state       party\n",
      "61   Bradford    William 1729-11-04      M  sen    RI  Federalist\n",
      "105    Bourne   Benjamin 1755-09-09      M  rep    RI  Federalist\n",
      "\n",
      "First 2 entries for 'SC'\n",
      "------------------------\n",
      "   last_name first_name   birthday gender type state               party\n",
      "2      Burke    Aedanus 1743-06-16      M  rep    SC                 NaN\n",
      "15     Izard      Ralph        NaT      M  sen    SC  Pro-Administration\n",
      "\n",
      "First 2 entries for 'SD'\n",
      "------------------------\n",
      "     last_name first_name   birthday gender type state       party\n",
      "5423   Gifford      Oscar 1842-10-20      M  rep    SD  Republican\n",
      "5462     Moody     Gideon 1832-10-16      M  sen    SD  Republican\n",
      "\n",
      "First 2 entries for 'TN'\n",
      "------------------------\n",
      "    last_name first_name   birthday gender type state       party\n",
      "141     White      James 1749-06-16      M  rep    TN         NaN\n",
      "142    Blount    William 1749-03-26      M  sen    TN  Republican\n",
      "\n",
      "First 2 entries for 'TX'\n",
      "------------------------\n",
      "     last_name first_name   birthday gender type state     party\n",
      "2568  Pilsbury    Timothy 1789-04-12      M  rep    TX  Democrat\n",
      "2671   Kaufman      David 1813-12-18      M  rep    TX  Democrat\n",
      "\n",
      "First 2 entries for 'UT'\n",
      "------------------------\n",
      "      last_name first_name   birthday gender type state     party\n",
      "3484  Bernhisel       John 1799-07-23      M  rep    UT      Whig\n",
      "3647     Kinney       John 1816-04-02      M  rep    UT  Democrat\n",
      "\n",
      "First 2 entries for 'VA'\n",
      "------------------------\n",
      "   last_name  first_name   birthday gender type state                party\n",
      "1      Bland  Theodorick 1742-03-21      M  rep    VA                  NaN\n",
      "11   Grayson     William        NaT      M  sen    VA  Anti-Administration\n",
      "\n",
      "First 2 entries for 'VI'\n",
      "------------------------\n",
      "      last_name first_name   birthday gender type state       party\n",
      "10496     Evans     Melvin 1917-08-07      M  rep    VI  Republican\n",
      "11088   de Lugo        Ron 1930-08-02      M  rep    VI    Democrat\n",
      "\n",
      "First 2 entries for 'VT'\n",
      "------------------------\n",
      "   last_name first_name   birthday gender type state                party\n",
      "41  Robinson      Moses 1741-03-22      M  sen    VT  Anti-Administration\n",
      "86     Niles  Nathaniel 1741-04-03      M  rep    VT                  NaN\n",
      "\n",
      "First 2 entries for 'WA'\n",
      "------------------------\n",
      "      last_name first_name   birthday gender type state     party\n",
      "2979  Lancaster   Columbia 1803-08-26      M  rep    WA  Democrat\n",
      "3052   Anderson      James 1822-02-16      M  rep    WA  Democrat\n",
      "\n",
      "First 2 entries for 'WI'\n",
      "------------------------\n",
      "     last_name first_name   birthday gender type state     party\n",
      "2410    Martin     Morgan 1805-03-31      M  rep    WI  Democrat\n",
      "2503   Darling      Mason 1801-05-18      M  rep    WI  Democrat\n",
      "\n",
      "First 2 entries for 'WV'\n",
      "------------------------\n",
      "       last_name first_name   birthday gender type state  \\\n",
      "3615       Blair      Jacob 1821-04-11      M  rep    WV   \n",
      "3690  Van Winkle      Peter 1808-09-07      M  sen    WV   \n",
      "\n",
      "                       party  \n",
      "3615  Unconditional Unionist  \n",
      "3690              Republican  \n",
      "\n",
      "First 2 entries for 'WY'\n",
      "------------------------\n",
      "     last_name first_name   birthday gender type state       party\n",
      "4009  Nuckolls    Stephen 1825-08-16      M  rep    WY    Democrat\n",
      "4138     Jones    William 1842-02-20      M  rep    WY  Republican\n",
      "\n"
     ]
    }
   ],
   "source": [
    "for state, frame in by_state:\n",
    "    print(f\"First 2 entries for {state!r}\") # !r to make state a raw string on output\n",
    "    print(\"------------------------\")\n",
    "    print(frame.head(2), end=\"\\n\\n\")"
   ]
  },
  {
   "cell_type": "code",
   "execution_count": 19,
   "id": "3f54aa4c",
   "metadata": {},
   "outputs": [
    {
     "data": {
      "text/plain": [
       "Index([    4,    19,    21,    27,    38,    57,    69,    76,    84,    88,\n",
       "       ...\n",
       "       11842, 11866, 11875, 11877, 11887, 11891, 11932, 11945, 11959, 11973],\n",
       "      dtype='int64', length=1053)"
      ]
     },
     "execution_count": 19,
     "metadata": {},
     "output_type": "execute_result"
    }
   ],
   "source": [
    "# The .groups attribute will give you a dictionary of {group name: group label} pairs\n",
    "by_state.groups[\"PA\"]"
   ]
  },
  {
   "cell_type": "markdown",
   "id": "7ea7267a",
   "metadata": {},
   "source": [
    "Each value is a sequence of the index locations for the rows belonging to that particular group. In the output above, 4, 19, and 21 are the first indices in df at which the state equals \"PA\"."
   ]
  },
  {
   "cell_type": "code",
   "execution_count": 20,
   "id": "063ba515",
   "metadata": {},
   "outputs": [
    {
     "data": {
      "text/html": [
       "<div>\n",
       "<style scoped>\n",
       "    .dataframe tbody tr th:only-of-type {\n",
       "        vertical-align: middle;\n",
       "    }\n",
       "\n",
       "    .dataframe tbody tr th {\n",
       "        vertical-align: top;\n",
       "    }\n",
       "\n",
       "    .dataframe thead th {\n",
       "        text-align: right;\n",
       "    }\n",
       "</style>\n",
       "<table border=\"1\" class=\"dataframe\">\n",
       "  <thead>\n",
       "    <tr style=\"text-align: right;\">\n",
       "      <th></th>\n",
       "      <th>last_name</th>\n",
       "      <th>first_name</th>\n",
       "      <th>birthday</th>\n",
       "      <th>gender</th>\n",
       "      <th>type</th>\n",
       "      <th>state</th>\n",
       "      <th>party</th>\n",
       "    </tr>\n",
       "  </thead>\n",
       "  <tbody>\n",
       "    <tr>\n",
       "      <th>4</th>\n",
       "      <td>Clymer</td>\n",
       "      <td>George</td>\n",
       "      <td>1739-03-16</td>\n",
       "      <td>M</td>\n",
       "      <td>rep</td>\n",
       "      <td>PA</td>\n",
       "      <td>NaN</td>\n",
       "    </tr>\n",
       "    <tr>\n",
       "      <th>19</th>\n",
       "      <td>Maclay</td>\n",
       "      <td>William</td>\n",
       "      <td>1737-07-20</td>\n",
       "      <td>M</td>\n",
       "      <td>sen</td>\n",
       "      <td>PA</td>\n",
       "      <td>Anti-Administration</td>\n",
       "    </tr>\n",
       "    <tr>\n",
       "      <th>21</th>\n",
       "      <td>Morris</td>\n",
       "      <td>Robert</td>\n",
       "      <td>1734-01-20</td>\n",
       "      <td>M</td>\n",
       "      <td>sen</td>\n",
       "      <td>PA</td>\n",
       "      <td>Pro-Administration</td>\n",
       "    </tr>\n",
       "    <tr>\n",
       "      <th>27</th>\n",
       "      <td>Wynkoop</td>\n",
       "      <td>Henry</td>\n",
       "      <td>1737-03-02</td>\n",
       "      <td>M</td>\n",
       "      <td>rep</td>\n",
       "      <td>PA</td>\n",
       "      <td>NaN</td>\n",
       "    </tr>\n",
       "    <tr>\n",
       "      <th>38</th>\n",
       "      <td>Jacobs</td>\n",
       "      <td>Israel</td>\n",
       "      <td>1726-06-09</td>\n",
       "      <td>M</td>\n",
       "      <td>rep</td>\n",
       "      <td>PA</td>\n",
       "      <td>NaN</td>\n",
       "    </tr>\n",
       "    <tr>\n",
       "      <th>...</th>\n",
       "      <td>...</td>\n",
       "      <td>...</td>\n",
       "      <td>...</td>\n",
       "      <td>...</td>\n",
       "      <td>...</td>\n",
       "      <td>...</td>\n",
       "      <td>...</td>\n",
       "    </tr>\n",
       "    <tr>\n",
       "      <th>11891</th>\n",
       "      <td>Brady</td>\n",
       "      <td>Robert</td>\n",
       "      <td>1945-04-07</td>\n",
       "      <td>M</td>\n",
       "      <td>rep</td>\n",
       "      <td>PA</td>\n",
       "      <td>Democrat</td>\n",
       "    </tr>\n",
       "    <tr>\n",
       "      <th>11932</th>\n",
       "      <td>Shuster</td>\n",
       "      <td>Bill</td>\n",
       "      <td>1961-01-10</td>\n",
       "      <td>M</td>\n",
       "      <td>rep</td>\n",
       "      <td>PA</td>\n",
       "      <td>Republican</td>\n",
       "    </tr>\n",
       "    <tr>\n",
       "      <th>11945</th>\n",
       "      <td>Rothfus</td>\n",
       "      <td>Keith</td>\n",
       "      <td>1962-04-25</td>\n",
       "      <td>M</td>\n",
       "      <td>rep</td>\n",
       "      <td>PA</td>\n",
       "      <td>Republican</td>\n",
       "    </tr>\n",
       "    <tr>\n",
       "      <th>11959</th>\n",
       "      <td>Costello</td>\n",
       "      <td>Ryan</td>\n",
       "      <td>1976-09-07</td>\n",
       "      <td>M</td>\n",
       "      <td>rep</td>\n",
       "      <td>PA</td>\n",
       "      <td>Republican</td>\n",
       "    </tr>\n",
       "    <tr>\n",
       "      <th>11973</th>\n",
       "      <td>Marino</td>\n",
       "      <td>Tom</td>\n",
       "      <td>1952-08-15</td>\n",
       "      <td>M</td>\n",
       "      <td>rep</td>\n",
       "      <td>PA</td>\n",
       "      <td>Republican</td>\n",
       "    </tr>\n",
       "  </tbody>\n",
       "</table>\n",
       "<p>1053 rows × 7 columns</p>\n",
       "</div>"
      ],
      "text/plain": [
       "      last_name first_name   birthday gender type state                party\n",
       "4        Clymer     George 1739-03-16      M  rep    PA                  NaN\n",
       "19       Maclay    William 1737-07-20      M  sen    PA  Anti-Administration\n",
       "21       Morris     Robert 1734-01-20      M  sen    PA   Pro-Administration\n",
       "27      Wynkoop      Henry 1737-03-02      M  rep    PA                  NaN\n",
       "38       Jacobs     Israel 1726-06-09      M  rep    PA                  NaN\n",
       "...         ...        ...        ...    ...  ...   ...                  ...\n",
       "11891     Brady     Robert 1945-04-07      M  rep    PA             Democrat\n",
       "11932   Shuster       Bill 1961-01-10      M  rep    PA           Republican\n",
       "11945   Rothfus      Keith 1962-04-25      M  rep    PA           Republican\n",
       "11959  Costello       Ryan 1976-09-07      M  rep    PA           Republican\n",
       "11973    Marino        Tom 1952-08-15      M  rep    PA           Republican\n",
       "\n",
       "[1053 rows x 7 columns]"
      ]
     },
     "execution_count": 20,
     "metadata": {},
     "output_type": "execute_result"
    }
   ],
   "source": [
    "# You can also use .get_group() as a way to drill down to the sub-table from a single group\n",
    "by_state.get_group(\"PA\")"
   ]
  },
  {
   "cell_type": "markdown",
   "id": "70ad5fc5",
   "metadata": {},
   "source": [
    "This is virtually equivalent to using .loc[]. You could get the same output with something like df.loc[df[\"state\"] == \"PA\"]."
   ]
  },
  {
   "cell_type": "code",
   "execution_count": 21,
   "id": "5b4eba27",
   "metadata": {},
   "outputs": [
    {
     "data": {
      "text/plain": [
       "'AK'"
      ]
     },
     "execution_count": 21,
     "metadata": {},
     "output_type": "execute_result"
    }
   ],
   "source": [
    "# You can grab the initial U.S. state and DataFrame with next(). \n",
    "# When you iterate over a pandas GroupBy object, you’ll get pairs that you can unpack into two variables\n",
    "state, frame = next(iter(by_state)) # First tuple from iterator\n",
    "state"
   ]
  },
  {
   "cell_type": "code",
   "execution_count": 22,
   "id": "d0d7159e",
   "metadata": {},
   "outputs": [
    {
     "data": {
      "text/html": [
       "<div>\n",
       "<style scoped>\n",
       "    .dataframe tbody tr th:only-of-type {\n",
       "        vertical-align: middle;\n",
       "    }\n",
       "\n",
       "    .dataframe tbody tr th {\n",
       "        vertical-align: top;\n",
       "    }\n",
       "\n",
       "    .dataframe thead th {\n",
       "        text-align: right;\n",
       "    }\n",
       "</style>\n",
       "<table border=\"1\" class=\"dataframe\">\n",
       "  <thead>\n",
       "    <tr style=\"text-align: right;\">\n",
       "      <th></th>\n",
       "      <th>last_name</th>\n",
       "      <th>first_name</th>\n",
       "      <th>birthday</th>\n",
       "      <th>gender</th>\n",
       "      <th>type</th>\n",
       "      <th>state</th>\n",
       "      <th>party</th>\n",
       "    </tr>\n",
       "  </thead>\n",
       "  <tbody>\n",
       "    <tr>\n",
       "      <th>6619</th>\n",
       "      <td>Waskey</td>\n",
       "      <td>Frank</td>\n",
       "      <td>1875-04-20</td>\n",
       "      <td>M</td>\n",
       "      <td>rep</td>\n",
       "      <td>AK</td>\n",
       "      <td>Democrat</td>\n",
       "    </tr>\n",
       "    <tr>\n",
       "      <th>6647</th>\n",
       "      <td>Cale</td>\n",
       "      <td>Thomas</td>\n",
       "      <td>1848-09-17</td>\n",
       "      <td>M</td>\n",
       "      <td>rep</td>\n",
       "      <td>AK</td>\n",
       "      <td>Independent</td>\n",
       "    </tr>\n",
       "    <tr>\n",
       "      <th>7442</th>\n",
       "      <td>Grigsby</td>\n",
       "      <td>George</td>\n",
       "      <td>1874-12-02</td>\n",
       "      <td>M</td>\n",
       "      <td>rep</td>\n",
       "      <td>AK</td>\n",
       "      <td>NaN</td>\n",
       "    </tr>\n",
       "  </tbody>\n",
       "</table>\n",
       "</div>"
      ],
      "text/plain": [
       "     last_name first_name   birthday gender type state        party\n",
       "6619    Waskey      Frank 1875-04-20      M  rep    AK     Democrat\n",
       "6647      Cale     Thomas 1848-09-17      M  rep    AK  Independent\n",
       "7442   Grigsby     George 1874-12-02      M  rep    AK          NaN"
      ]
     },
     "execution_count": 22,
     "metadata": {},
     "output_type": "execute_result"
    }
   ],
   "source": [
    "frame.head(3)"
   ]
  },
  {
   "cell_type": "code",
   "execution_count": 23,
   "id": "f0dd1893",
   "metadata": {},
   "outputs": [
    {
     "name": "stderr",
     "output_type": "stream",
     "text": [
      "C:\\Users\\Christopher French\\AppData\\Local\\Temp\\ipykernel_6740\\624200373.py:2: FutureWarning: The default of observed=False is deprecated and will be changed to True in a future version of pandas. Pass observed=False to retain current behavior or observed=True to adopt the future default and silence this warning.\n",
      "  df.groupby(\"state\")[\"last_name\"].count()\n"
     ]
    },
    {
     "data": {
      "text/plain": [
       "state\n",
       "AK      16\n",
       "AL     206\n",
       "AR     117\n",
       "AS       2\n",
       "AZ      48\n",
       "CA     361\n",
       "CO      90\n",
       "CT     240\n",
       "DC       2\n",
       "DE      97\n",
       "DK       9\n",
       "FL     155\n",
       "GA     309\n",
       "GU       4\n",
       "HI      23\n",
       "IA     202\n",
       "ID      59\n",
       "IL     486\n",
       "IN     341\n",
       "KS     141\n",
       "KY     373\n",
       "LA     197\n",
       "MA     426\n",
       "MD     305\n",
       "ME     175\n",
       "MI     294\n",
       "MN     160\n",
       "MO     333\n",
       "MS     155\n",
       "MT      52\n",
       "NC     354\n",
       "ND      44\n",
       "NE     127\n",
       "NH     181\n",
       "NJ     359\n",
       "NM      54\n",
       "NV      56\n",
       "NY    1461\n",
       "OH     674\n",
       "OK      92\n",
       "OL       2\n",
       "OR      89\n",
       "PA    1053\n",
       "PI      13\n",
       "PR      19\n",
       "RI     107\n",
       "SC     251\n",
       "SD      51\n",
       "TN     299\n",
       "TX     256\n",
       "UT      53\n",
       "VA     432\n",
       "VI       4\n",
       "VT     115\n",
       "WA      95\n",
       "WI     196\n",
       "WV     120\n",
       "WY      40\n",
       "Name: last_name, dtype: int64"
      ]
     },
     "execution_count": 23,
     "metadata": {},
     "output_type": "execute_result"
    }
   ],
   "source": [
    "# Now, think back to your original, full operation\n",
    "df.groupby(\"state\")[\"last_name\"].count()"
   ]
  },
  {
   "cell_type": "code",
   "execution_count": 24,
   "id": "f17bdaeb",
   "metadata": {},
   "outputs": [
    {
     "data": {
      "text/plain": [
       "np.int64(16)"
      ]
     },
     "execution_count": 24,
     "metadata": {},
     "output_type": "execute_result"
    }
   ],
   "source": [
    "# The apply stage, when applied to your single, subsetted DataFrame, would look like this\n",
    "frame[\"last_name\"].count() # Count for state == \"AK\""
   ]
  },
  {
   "cell_type": "markdown",
   "id": "d6a80ae1",
   "metadata": {},
   "source": [
    "The last step, combine, takes the results of all of the applied operations on all of the sub-tables and combines them back together in an intuitive way.\n",
    "\n",
    "Read on to explore more examples of the split-apply-combine process."
   ]
  },
  {
   "cell_type": "markdown",
   "id": "0485e42e",
   "metadata": {},
   "source": [
    "### **Example 2: Air Quality Dataset**\n",
    "The air quality dataset contains hourly readings from a gas sensor device in Italy. Missing values are denoted with -200 in the CSV file. You can use read_csv() to combine two columns into a timestamp while using a subset of the other columns:"
   ]
  },
  {
   "cell_type": "code",
   "execution_count": 25,
   "id": "bf308922",
   "metadata": {},
   "outputs": [
    {
     "name": "stderr",
     "output_type": "stream",
     "text": [
      "C:\\Users\\Christopher French\\AppData\\Local\\Temp\\ipykernel_6740\\133948364.py:3: FutureWarning: Support for nested sequences for 'parse_dates' in pd.read_csv is deprecated. Combine the desired columns with pd.to_datetime after parsing instead.\n",
      "  df = pd.read_csv(\"groupby-data/airqual.csv\", parse_dates=[[\"Date\", \"Time\"]],\n",
      "C:\\Users\\Christopher French\\AppData\\Local\\Temp\\ipykernel_6740\\133948364.py:3: UserWarning: Could not infer format, so each element will be parsed individually, falling back to `dateutil`. To ensure parsing is consistent and as-expected, please specify a format.\n",
      "  df = pd.read_csv(\"groupby-data/airqual.csv\", parse_dates=[[\"Date\", \"Time\"]],\n"
     ]
    }
   ],
   "source": [
    "import pandas as pd\n",
    "\n",
    "df = pd.read_csv(\"groupby-data/airqual.csv\", parse_dates=[[\"Date\", \"Time\"]],\n",
    "                 na_values=[-200], usecols=[\"Date\", \"Time\", \"CO(GT)\", \"T\", \"RH\", \"AH\"]).rename(\n",
    "                     columns={\n",
    "                         \"CO(GT)\": \"co\",\n",
    "                         \"Date_Time\": \"tstamp\",\n",
    "                         \"T\": \"temp_c\",\n",
    "                         \"RH\": \"rel_hum\",\n",
    "                         \"AH\": \"abs_hum\"\n",
    "                     }\n",
    "                 ).set_index(\"tstamp\")"
   ]
  },
  {
   "cell_type": "code",
   "execution_count": 26,
   "id": "0c7db122",
   "metadata": {},
   "outputs": [
    {
     "data": {
      "text/html": [
       "<div>\n",
       "<style scoped>\n",
       "    .dataframe tbody tr th:only-of-type {\n",
       "        vertical-align: middle;\n",
       "    }\n",
       "\n",
       "    .dataframe tbody tr th {\n",
       "        vertical-align: top;\n",
       "    }\n",
       "\n",
       "    .dataframe thead th {\n",
       "        text-align: right;\n",
       "    }\n",
       "</style>\n",
       "<table border=\"1\" class=\"dataframe\">\n",
       "  <thead>\n",
       "    <tr style=\"text-align: right;\">\n",
       "      <th></th>\n",
       "      <th>co</th>\n",
       "      <th>temp_c</th>\n",
       "      <th>rel_hum</th>\n",
       "      <th>abs_hum</th>\n",
       "    </tr>\n",
       "    <tr>\n",
       "      <th>tstamp</th>\n",
       "      <th></th>\n",
       "      <th></th>\n",
       "      <th></th>\n",
       "      <th></th>\n",
       "    </tr>\n",
       "  </thead>\n",
       "  <tbody>\n",
       "    <tr>\n",
       "      <th>2004-03-10 18:00:00</th>\n",
       "      <td>2.6</td>\n",
       "      <td>13.6</td>\n",
       "      <td>48.9</td>\n",
       "      <td>0.7578</td>\n",
       "    </tr>\n",
       "    <tr>\n",
       "      <th>2004-03-10 19:00:00</th>\n",
       "      <td>2.0</td>\n",
       "      <td>13.3</td>\n",
       "      <td>47.7</td>\n",
       "      <td>0.7255</td>\n",
       "    </tr>\n",
       "    <tr>\n",
       "      <th>2004-03-10 20:00:00</th>\n",
       "      <td>2.2</td>\n",
       "      <td>11.9</td>\n",
       "      <td>54.0</td>\n",
       "      <td>0.7502</td>\n",
       "    </tr>\n",
       "    <tr>\n",
       "      <th>2004-03-10 21:00:00</th>\n",
       "      <td>2.2</td>\n",
       "      <td>11.0</td>\n",
       "      <td>60.0</td>\n",
       "      <td>0.7867</td>\n",
       "    </tr>\n",
       "    <tr>\n",
       "      <th>2004-03-10 22:00:00</th>\n",
       "      <td>1.6</td>\n",
       "      <td>11.2</td>\n",
       "      <td>59.6</td>\n",
       "      <td>0.7888</td>\n",
       "    </tr>\n",
       "    <tr>\n",
       "      <th>...</th>\n",
       "      <td>...</td>\n",
       "      <td>...</td>\n",
       "      <td>...</td>\n",
       "      <td>...</td>\n",
       "    </tr>\n",
       "    <tr>\n",
       "      <th>2005-04-04 10:00:00</th>\n",
       "      <td>3.1</td>\n",
       "      <td>21.9</td>\n",
       "      <td>29.3</td>\n",
       "      <td>0.7568</td>\n",
       "    </tr>\n",
       "    <tr>\n",
       "      <th>2005-04-04 11:00:00</th>\n",
       "      <td>2.4</td>\n",
       "      <td>24.3</td>\n",
       "      <td>23.7</td>\n",
       "      <td>0.7119</td>\n",
       "    </tr>\n",
       "    <tr>\n",
       "      <th>2005-04-04 12:00:00</th>\n",
       "      <td>2.4</td>\n",
       "      <td>26.9</td>\n",
       "      <td>18.3</td>\n",
       "      <td>0.6406</td>\n",
       "    </tr>\n",
       "    <tr>\n",
       "      <th>2005-04-04 13:00:00</th>\n",
       "      <td>2.1</td>\n",
       "      <td>28.3</td>\n",
       "      <td>13.5</td>\n",
       "      <td>0.5139</td>\n",
       "    </tr>\n",
       "    <tr>\n",
       "      <th>2005-04-04 14:00:00</th>\n",
       "      <td>2.2</td>\n",
       "      <td>28.5</td>\n",
       "      <td>13.1</td>\n",
       "      <td>0.5028</td>\n",
       "    </tr>\n",
       "  </tbody>\n",
       "</table>\n",
       "<p>9357 rows × 4 columns</p>\n",
       "</div>"
      ],
      "text/plain": [
       "                      co  temp_c  rel_hum  abs_hum\n",
       "tstamp                                            \n",
       "2004-03-10 18:00:00  2.6    13.6     48.9   0.7578\n",
       "2004-03-10 19:00:00  2.0    13.3     47.7   0.7255\n",
       "2004-03-10 20:00:00  2.2    11.9     54.0   0.7502\n",
       "2004-03-10 21:00:00  2.2    11.0     60.0   0.7867\n",
       "2004-03-10 22:00:00  1.6    11.2     59.6   0.7888\n",
       "...                  ...     ...      ...      ...\n",
       "2005-04-04 10:00:00  3.1    21.9     29.3   0.7568\n",
       "2005-04-04 11:00:00  2.4    24.3     23.7   0.7119\n",
       "2005-04-04 12:00:00  2.4    26.9     18.3   0.6406\n",
       "2005-04-04 13:00:00  2.1    28.3     13.5   0.5139\n",
       "2005-04-04 14:00:00  2.2    28.5     13.1   0.5028\n",
       "\n",
       "[9357 rows x 4 columns]"
      ]
     },
     "execution_count": 26,
     "metadata": {},
     "output_type": "execute_result"
    }
   ],
   "source": [
    "# This produces a DataFrame with a DatetimeIndex and four float columns\n",
    "df"
   ]
  },
  {
   "cell_type": "markdown",
   "id": "0d595c26",
   "metadata": {},
   "source": [
    "Here, co is that hour’s average carbon monoxide reading, while temp_c, rel_hum, and abs_hum are the average Celsius temperature, relative humidity, and absolute humidity over that hour, respectively. The observations run from March 2004 through April 2005:"
   ]
  },
  {
   "cell_type": "code",
   "execution_count": 27,
   "id": "b18925b6",
   "metadata": {},
   "outputs": [
    {
     "data": {
      "text/plain": [
       "Timestamp('2004-03-10 18:00:00')"
      ]
     },
     "execution_count": 27,
     "metadata": {},
     "output_type": "execute_result"
    }
   ],
   "source": [
    "df.index.min()"
   ]
  },
  {
   "cell_type": "code",
   "execution_count": 28,
   "id": "2cc685f4",
   "metadata": {},
   "outputs": [
    {
     "data": {
      "text/plain": [
       "Timestamp('2005-04-04 14:00:00')"
      ]
     },
     "execution_count": 28,
     "metadata": {},
     "output_type": "execute_result"
    }
   ],
   "source": [
    "df.index.max()"
   ]
  },
  {
   "cell_type": "markdown",
   "id": "c371c2c5",
   "metadata": {},
   "source": [
    "So far, you’ve grouped on columns by specifying their names as str, such as df.groupby(\"state\"). But .groupby() is a whole lot more flexible than this! You’ll see how next."
   ]
  },
  {
   "cell_type": "markdown",
   "id": "042e226c",
   "metadata": {},
   "source": [
    "### **Grouping on Derived Arrays**\n",
    "Earlier you saw that the first parameter to .groupby() can accept several different arguments:\n",
    "\n",
    "<ul>\n",
    " <li>A column or list of columns</li>\n",
    " <li>A dict or pandas Series</li>\n",
    " <li>A NumPy array or pandas Index, or an array-like iterable of these</li>\n",
    " </ul>\n",
    "\n",
    "You can take advantage of the last option in order to group by the day of the week. Use the index’s .day_name() to produce a pandas Index of strings. Here are the first ten observations:"
   ]
  },
  {
   "cell_type": "code",
   "execution_count": 30,
   "id": "33227501",
   "metadata": {},
   "outputs": [
    {
     "name": "stdout",
     "output_type": "stream",
     "text": [
      "<class 'pandas.core.indexes.base.Index'>\n"
     ]
    }
   ],
   "source": [
    "day_names = df.index.day_name()\n",
    "print(type(day_names))"
   ]
  },
  {
   "cell_type": "code",
   "execution_count": 32,
   "id": "4b944766",
   "metadata": {},
   "outputs": [
    {
     "data": {
      "text/plain": [
       "Index(['Wednesday', 'Wednesday', 'Wednesday', 'Wednesday', 'Wednesday',\n",
       "       'Wednesday', 'Thursday', 'Thursday', 'Thursday', 'Thursday'],\n",
       "      dtype='object', name='tstamp')"
      ]
     },
     "execution_count": 32,
     "metadata": {},
     "output_type": "execute_result"
    }
   ],
   "source": [
    "day_names[:10]"
   ]
  },
  {
   "cell_type": "markdown",
   "id": "0d342cec",
   "metadata": {},
   "source": [
    "You can then take this object and use it as the .groupby() key. In pandas, day_names is array-like. It’s a one-dimensional sequence of labels.\n",
    "\n",
    "<div class=\"alert alert-block alert-info\">\n",
    "<b>Note:</b> For a pandas Series, rather than an Index, you’ll need the .dt accessor to get access to methods like .day_name(). If ser is your Series, then you’d need ser.dt.day_name().</div>"
   ]
  },
  {
   "cell_type": "code",
   "execution_count": 33,
   "id": "73e3ddef",
   "metadata": {},
   "outputs": [
    {
     "data": {
      "text/plain": [
       "tstamp\n",
       "Friday       2.543041\n",
       "Monday       2.016741\n",
       "Saturday     1.861077\n",
       "Sunday       1.438069\n",
       "Thursday     2.455505\n",
       "Tuesday      2.382267\n",
       "Wednesday    2.400787\n",
       "Name: co, dtype: float64"
      ]
     },
     "execution_count": 33,
     "metadata": {},
     "output_type": "execute_result"
    }
   ],
   "source": [
    "# Now, pass that object to .groupby() to find the average carbon monoxide (co) reading by day of the week\n",
    "df.groupby(day_names)[\"co\"].mean()"
   ]
  },
  {
   "cell_type": "markdown",
   "id": "b62228e6",
   "metadata": {},
   "source": [
    "The split-apply-combine process behaves largely the same as before, except that the splitting this time is done on an artificially created column. This column doesn’t exist in the DataFrame itself, but rather is derived from it.\n",
    "\n",
    "What if you wanted to group not just by day of the week, but by hour of the day? That result should have 7 * 24 = 168 observations. To accomplish that, you can pass a list of array-like objects. In this case, you’ll pass pandas Int64Index objects:"
   ]
  },
  {
   "cell_type": "code",
   "execution_count": 35,
   "id": "db89e250",
   "metadata": {},
   "outputs": [
    {
     "data": {
      "text/html": [
       "<div>\n",
       "<style scoped>\n",
       "    .dataframe tbody tr th:only-of-type {\n",
       "        vertical-align: middle;\n",
       "    }\n",
       "\n",
       "    .dataframe tbody tr th {\n",
       "        vertical-align: top;\n",
       "    }\n",
       "\n",
       "    .dataframe thead th {\n",
       "        text-align: right;\n",
       "    }\n",
       "</style>\n",
       "<table border=\"1\" class=\"dataframe\">\n",
       "  <thead>\n",
       "    <tr style=\"text-align: right;\">\n",
       "      <th></th>\n",
       "      <th>co</th>\n",
       "      <th>temp_c</th>\n",
       "      <th>rel_hum</th>\n",
       "      <th>abs_hum</th>\n",
       "    </tr>\n",
       "    <tr>\n",
       "      <th>tstamp</th>\n",
       "      <th></th>\n",
       "      <th></th>\n",
       "      <th></th>\n",
       "      <th></th>\n",
       "    </tr>\n",
       "  </thead>\n",
       "  <tbody>\n",
       "    <tr>\n",
       "      <th>2005-04-04 10:00:00</th>\n",
       "      <td>3.1</td>\n",
       "      <td>21.9</td>\n",
       "      <td>29.3</td>\n",
       "      <td>0.7568</td>\n",
       "    </tr>\n",
       "    <tr>\n",
       "      <th>2005-04-04 11:00:00</th>\n",
       "      <td>2.4</td>\n",
       "      <td>24.3</td>\n",
       "      <td>23.7</td>\n",
       "      <td>0.7119</td>\n",
       "    </tr>\n",
       "    <tr>\n",
       "      <th>2005-04-04 12:00:00</th>\n",
       "      <td>2.4</td>\n",
       "      <td>26.9</td>\n",
       "      <td>18.3</td>\n",
       "      <td>0.6406</td>\n",
       "    </tr>\n",
       "    <tr>\n",
       "      <th>2005-04-04 13:00:00</th>\n",
       "      <td>2.1</td>\n",
       "      <td>28.3</td>\n",
       "      <td>13.5</td>\n",
       "      <td>0.5139</td>\n",
       "    </tr>\n",
       "    <tr>\n",
       "      <th>2005-04-04 14:00:00</th>\n",
       "      <td>2.2</td>\n",
       "      <td>28.5</td>\n",
       "      <td>13.1</td>\n",
       "      <td>0.5028</td>\n",
       "    </tr>\n",
       "  </tbody>\n",
       "</table>\n",
       "</div>"
      ],
      "text/plain": [
       "                      co  temp_c  rel_hum  abs_hum\n",
       "tstamp                                            \n",
       "2005-04-04 10:00:00  3.1    21.9     29.3   0.7568\n",
       "2005-04-04 11:00:00  2.4    24.3     23.7   0.7119\n",
       "2005-04-04 12:00:00  2.4    26.9     18.3   0.6406\n",
       "2005-04-04 13:00:00  2.1    28.3     13.5   0.5139\n",
       "2005-04-04 14:00:00  2.2    28.5     13.1   0.5028"
      ]
     },
     "execution_count": 35,
     "metadata": {},
     "output_type": "execute_result"
    }
   ],
   "source": [
    "df.tail()"
   ]
  },
  {
   "cell_type": "code",
   "execution_count": 36,
   "id": "a2d84764",
   "metadata": {},
   "outputs": [
    {
     "data": {
      "text/plain": [
       "dow        hr\n",
       "Friday     0     1.936170\n",
       "           1     1.608511\n",
       "           2     1.172340\n",
       "           3     0.887234\n",
       "           4     0.823333\n",
       "                   ...   \n",
       "Wednesday  19    4.146809\n",
       "           20    3.844681\n",
       "           21    2.897872\n",
       "           22    2.102128\n",
       "           23    1.938298\n",
       "Name: co, Length: 168, dtype: float64"
      ]
     },
     "execution_count": 36,
     "metadata": {},
     "output_type": "execute_result"
    }
   ],
   "source": [
    "hr = df.index.hour\n",
    "df.groupby([day_names, hr])[\"co\"].mean().rename_axis([\"dow\", \"hr\"])"
   ]
  },
  {
   "cell_type": "code",
   "execution_count": 38,
   "id": "0ef5cc46",
   "metadata": {},
   "outputs": [
    {
     "name": "stderr",
     "output_type": "stream",
     "text": [
      "C:\\Users\\Christopher French\\AppData\\Local\\Temp\\ipykernel_6740\\1622997246.py:4: FutureWarning: The default of observed=False is deprecated and will be changed to True in a future version of pandas. Pass observed=False to retain current behavior or observed=True to adopt the future default and silence this warning.\n",
      "  df[[\"rel_hum\", \"abs_hum\"]].groupby(bins).agg([\"mean\", \"median\"])\n"
     ]
    },
    {
     "data": {
      "text/html": [
       "<div>\n",
       "<style scoped>\n",
       "    .dataframe tbody tr th:only-of-type {\n",
       "        vertical-align: middle;\n",
       "    }\n",
       "\n",
       "    .dataframe tbody tr th {\n",
       "        vertical-align: top;\n",
       "    }\n",
       "\n",
       "    .dataframe thead tr th {\n",
       "        text-align: left;\n",
       "    }\n",
       "\n",
       "    .dataframe thead tr:last-of-type th {\n",
       "        text-align: right;\n",
       "    }\n",
       "</style>\n",
       "<table border=\"1\" class=\"dataframe\">\n",
       "  <thead>\n",
       "    <tr>\n",
       "      <th></th>\n",
       "      <th colspan=\"2\" halign=\"left\">rel_hum</th>\n",
       "      <th colspan=\"2\" halign=\"left\">abs_hum</th>\n",
       "    </tr>\n",
       "    <tr>\n",
       "      <th></th>\n",
       "      <th>mean</th>\n",
       "      <th>median</th>\n",
       "      <th>mean</th>\n",
       "      <th>median</th>\n",
       "    </tr>\n",
       "    <tr>\n",
       "      <th>temp_c</th>\n",
       "      <th></th>\n",
       "      <th></th>\n",
       "      <th></th>\n",
       "      <th></th>\n",
       "    </tr>\n",
       "  </thead>\n",
       "  <tbody>\n",
       "    <tr>\n",
       "      <th>cool</th>\n",
       "      <td>57.651452</td>\n",
       "      <td>59.2</td>\n",
       "      <td>0.665874</td>\n",
       "      <td>0.6581</td>\n",
       "    </tr>\n",
       "    <tr>\n",
       "      <th>warm</th>\n",
       "      <td>49.382716</td>\n",
       "      <td>49.3</td>\n",
       "      <td>1.182894</td>\n",
       "      <td>1.1452</td>\n",
       "    </tr>\n",
       "    <tr>\n",
       "      <th>hot</th>\n",
       "      <td>24.994334</td>\n",
       "      <td>24.1</td>\n",
       "      <td>1.292958</td>\n",
       "      <td>1.2742</td>\n",
       "    </tr>\n",
       "  </tbody>\n",
       "</table>\n",
       "</div>"
      ],
      "text/plain": [
       "          rel_hum          abs_hum        \n",
       "             mean median      mean  median\n",
       "temp_c                                    \n",
       "cool    57.651452   59.2  0.665874  0.6581\n",
       "warm    49.382716   49.3  1.182894  1.1452\n",
       "hot     24.994334   24.1  1.292958  1.2742"
      ]
     },
     "execution_count": 38,
     "metadata": {},
     "output_type": "execute_result"
    }
   ],
   "source": [
    "# Here’s one more similar case that uses .cut() to bin the temperature values into discrete intervals\n",
    "import pandas as pd\n",
    "bins = pd.cut(df[\"temp_c\"], bins=3, labels=(\"cool\", \"warm\", \"hot\"))\n",
    "df[[\"rel_hum\", \"abs_hum\"]].groupby(bins).agg([\"mean\", \"median\"])"
   ]
  },
  {
   "cell_type": "code",
   "execution_count": 39,
   "id": "3c96de93",
   "metadata": {},
   "outputs": [
    {
     "name": "stdout",
     "output_type": "stream",
     "text": [
      "<class 'pandas.core.series.Series'>\n"
     ]
    }
   ],
   "source": [
    "# In this case, bins is actually a Series\n",
    "print(type(bins))"
   ]
  },
  {
   "cell_type": "code",
   "execution_count": 40,
   "id": "8a23d6c3",
   "metadata": {},
   "outputs": [
    {
     "data": {
      "text/plain": [
       "tstamp\n",
       "2004-03-10 18:00:00    cool\n",
       "2004-03-10 19:00:00    cool\n",
       "2004-03-10 20:00:00    cool\n",
       "2004-03-10 21:00:00    cool\n",
       "2004-03-10 22:00:00    cool\n",
       "Name: temp_c, dtype: category\n",
       "Categories (3, object): ['cool' < 'warm' < 'hot']"
      ]
     },
     "execution_count": 40,
     "metadata": {},
     "output_type": "execute_result"
    }
   ],
   "source": [
    "bins.head()"
   ]
  },
  {
   "cell_type": "markdown",
   "id": "415556de",
   "metadata": {},
   "source": [
    "Whether it’s a Series, NumPy array, or list doesn’t matter. What’s important is that bins still serves as a sequence of labels, comprising cool, warm, and hot. If you really wanted to, then you could also use a Categorical array or even a plain old list:\n",
    "\n",
    "<ul>\n",
    "    <li>Native Python list: df.groupby(bins.tolist())</li>\n",
    "    <li>pandas Categorical array: df.groupby(bins.values)</li>\n",
    "</ul>\n",
    "\n",
    "As you can see, .groupby() is smart and can handle a lot of different input types. Any of these would produce the same result because all of them function as a sequence of labels on which to perform the grouping and splitting."
   ]
  },
  {
   "cell_type": "markdown",
   "id": "e55b31c6",
   "metadata": {},
   "source": [
    "### **Resampling**\n",
    "You’ve grouped df by the day of the week with df.groupby(day_names)[\"co\"].mean(). Now consider something different. What if you wanted to group by an observation’s year and quarter? Here’s one way to accomplish that:"
   ]
  },
  {
   "cell_type": "code",
   "execution_count": 44,
   "id": "0d96ee10",
   "metadata": {},
   "outputs": [
    {
     "data": {
      "text/html": [
       "<div>\n",
       "<style scoped>\n",
       "    .dataframe tbody tr th:only-of-type {\n",
       "        vertical-align: middle;\n",
       "    }\n",
       "\n",
       "    .dataframe tbody tr th {\n",
       "        vertical-align: top;\n",
       "    }\n",
       "\n",
       "    .dataframe thead th {\n",
       "        text-align: right;\n",
       "    }\n",
       "</style>\n",
       "<table border=\"1\" class=\"dataframe\">\n",
       "  <thead>\n",
       "    <tr style=\"text-align: right;\">\n",
       "      <th></th>\n",
       "      <th>co</th>\n",
       "      <th>temp_c</th>\n",
       "      <th>rel_hum</th>\n",
       "      <th>abs_hum</th>\n",
       "    </tr>\n",
       "    <tr>\n",
       "      <th>tstamp</th>\n",
       "      <th></th>\n",
       "      <th></th>\n",
       "      <th></th>\n",
       "      <th></th>\n",
       "    </tr>\n",
       "  </thead>\n",
       "  <tbody>\n",
       "    <tr>\n",
       "      <th>2004-03-10 18:00:00</th>\n",
       "      <td>2.6</td>\n",
       "      <td>13.6</td>\n",
       "      <td>48.9</td>\n",
       "      <td>0.7578</td>\n",
       "    </tr>\n",
       "    <tr>\n",
       "      <th>2004-03-10 19:00:00</th>\n",
       "      <td>2.0</td>\n",
       "      <td>13.3</td>\n",
       "      <td>47.7</td>\n",
       "      <td>0.7255</td>\n",
       "    </tr>\n",
       "    <tr>\n",
       "      <th>2004-03-10 20:00:00</th>\n",
       "      <td>2.2</td>\n",
       "      <td>11.9</td>\n",
       "      <td>54.0</td>\n",
       "      <td>0.7502</td>\n",
       "    </tr>\n",
       "    <tr>\n",
       "      <th>2004-03-10 21:00:00</th>\n",
       "      <td>2.2</td>\n",
       "      <td>11.0</td>\n",
       "      <td>60.0</td>\n",
       "      <td>0.7867</td>\n",
       "    </tr>\n",
       "    <tr>\n",
       "      <th>2004-03-10 22:00:00</th>\n",
       "      <td>1.6</td>\n",
       "      <td>11.2</td>\n",
       "      <td>59.6</td>\n",
       "      <td>0.7888</td>\n",
       "    </tr>\n",
       "  </tbody>\n",
       "</table>\n",
       "</div>"
      ],
      "text/plain": [
       "                      co  temp_c  rel_hum  abs_hum\n",
       "tstamp                                            \n",
       "2004-03-10 18:00:00  2.6    13.6     48.9   0.7578\n",
       "2004-03-10 19:00:00  2.0    13.3     47.7   0.7255\n",
       "2004-03-10 20:00:00  2.2    11.9     54.0   0.7502\n",
       "2004-03-10 21:00:00  2.2    11.0     60.0   0.7867\n",
       "2004-03-10 22:00:00  1.6    11.2     59.6   0.7888"
      ]
     },
     "execution_count": 44,
     "metadata": {},
     "output_type": "execute_result"
    }
   ],
   "source": [
    "df.head()"
   ]
  },
  {
   "cell_type": "code",
   "execution_count": 45,
   "id": "076e1c7f",
   "metadata": {},
   "outputs": [
    {
     "data": {
      "text/html": [
       "<div>\n",
       "<style scoped>\n",
       "    .dataframe tbody tr th:only-of-type {\n",
       "        vertical-align: middle;\n",
       "    }\n",
       "\n",
       "    .dataframe tbody tr th {\n",
       "        vertical-align: top;\n",
       "    }\n",
       "\n",
       "    .dataframe thead th {\n",
       "        text-align: right;\n",
       "    }\n",
       "</style>\n",
       "<table border=\"1\" class=\"dataframe\">\n",
       "  <thead>\n",
       "    <tr style=\"text-align: right;\">\n",
       "      <th></th>\n",
       "      <th></th>\n",
       "      <th>max</th>\n",
       "      <th>min</th>\n",
       "    </tr>\n",
       "    <tr>\n",
       "      <th>year</th>\n",
       "      <th>quarter</th>\n",
       "      <th></th>\n",
       "      <th></th>\n",
       "    </tr>\n",
       "  </thead>\n",
       "  <tbody>\n",
       "    <tr>\n",
       "      <th rowspan=\"4\" valign=\"top\">2004</th>\n",
       "      <th>1</th>\n",
       "      <td>8.1</td>\n",
       "      <td>0.3</td>\n",
       "    </tr>\n",
       "    <tr>\n",
       "      <th>2</th>\n",
       "      <td>7.3</td>\n",
       "      <td>0.1</td>\n",
       "    </tr>\n",
       "    <tr>\n",
       "      <th>3</th>\n",
       "      <td>7.5</td>\n",
       "      <td>0.1</td>\n",
       "    </tr>\n",
       "    <tr>\n",
       "      <th>4</th>\n",
       "      <td>11.9</td>\n",
       "      <td>0.1</td>\n",
       "    </tr>\n",
       "    <tr>\n",
       "      <th rowspan=\"2\" valign=\"top\">2005</th>\n",
       "      <th>1</th>\n",
       "      <td>8.7</td>\n",
       "      <td>0.1</td>\n",
       "    </tr>\n",
       "    <tr>\n",
       "      <th>2</th>\n",
       "      <td>5.0</td>\n",
       "      <td>0.3</td>\n",
       "    </tr>\n",
       "  </tbody>\n",
       "</table>\n",
       "</div>"
      ],
      "text/plain": [
       "               max  min\n",
       "year quarter           \n",
       "2004 1         8.1  0.3\n",
       "     2         7.3  0.1\n",
       "     3         7.5  0.1\n",
       "     4        11.9  0.1\n",
       "2005 1         8.7  0.1\n",
       "     2         5.0  0.3"
      ]
     },
     "execution_count": 45,
     "metadata": {},
     "output_type": "execute_result"
    }
   ],
   "source": [
    "df.groupby([df.index.year, df.index.quarter])[\"co\"].agg(\n",
    "    [\"max\", \"min\"]\n",
    ").rename_axis([\"year\", \"quarter\"])"
   ]
  },
  {
   "cell_type": "markdown",
   "id": "488a531f",
   "metadata": {},
   "source": [
    "This whole operation can, alternatively, be expressed through resampling. One of the uses of resampling is as a time-based groupby. All that you need to do is pass a frequency string, such as \"Q\" for \"quarterly\", and pandas will do the rest:"
   ]
  },
  {
   "cell_type": "code",
   "execution_count": 46,
   "id": "a3f9daca",
   "metadata": {},
   "outputs": [
    {
     "name": "stderr",
     "output_type": "stream",
     "text": [
      "C:\\Users\\Christopher French\\AppData\\Local\\Temp\\ipykernel_6740\\3097574925.py:2: FutureWarning: 'Q' is deprecated and will be removed in a future version, please use 'QE' instead.\n",
      "  df.resample(\"Q\")[\"co\"].agg([\"max\", \"min\"])\n"
     ]
    },
    {
     "data": {
      "text/html": [
       "<div>\n",
       "<style scoped>\n",
       "    .dataframe tbody tr th:only-of-type {\n",
       "        vertical-align: middle;\n",
       "    }\n",
       "\n",
       "    .dataframe tbody tr th {\n",
       "        vertical-align: top;\n",
       "    }\n",
       "\n",
       "    .dataframe thead th {\n",
       "        text-align: right;\n",
       "    }\n",
       "</style>\n",
       "<table border=\"1\" class=\"dataframe\">\n",
       "  <thead>\n",
       "    <tr style=\"text-align: right;\">\n",
       "      <th></th>\n",
       "      <th>max</th>\n",
       "      <th>min</th>\n",
       "    </tr>\n",
       "    <tr>\n",
       "      <th>tstamp</th>\n",
       "      <th></th>\n",
       "      <th></th>\n",
       "    </tr>\n",
       "  </thead>\n",
       "  <tbody>\n",
       "    <tr>\n",
       "      <th>2004-03-31</th>\n",
       "      <td>8.1</td>\n",
       "      <td>0.3</td>\n",
       "    </tr>\n",
       "    <tr>\n",
       "      <th>2004-06-30</th>\n",
       "      <td>7.3</td>\n",
       "      <td>0.1</td>\n",
       "    </tr>\n",
       "    <tr>\n",
       "      <th>2004-09-30</th>\n",
       "      <td>7.5</td>\n",
       "      <td>0.1</td>\n",
       "    </tr>\n",
       "    <tr>\n",
       "      <th>2004-12-31</th>\n",
       "      <td>11.9</td>\n",
       "      <td>0.1</td>\n",
       "    </tr>\n",
       "    <tr>\n",
       "      <th>2005-03-31</th>\n",
       "      <td>8.7</td>\n",
       "      <td>0.1</td>\n",
       "    </tr>\n",
       "    <tr>\n",
       "      <th>2005-06-30</th>\n",
       "      <td>5.0</td>\n",
       "      <td>0.3</td>\n",
       "    </tr>\n",
       "  </tbody>\n",
       "</table>\n",
       "</div>"
      ],
      "text/plain": [
       "             max  min\n",
       "tstamp               \n",
       "2004-03-31   8.1  0.3\n",
       "2004-06-30   7.3  0.1\n",
       "2004-09-30   7.5  0.1\n",
       "2004-12-31  11.9  0.1\n",
       "2005-03-31   8.7  0.1\n",
       "2005-06-30   5.0  0.3"
      ]
     },
     "execution_count": 46,
     "metadata": {},
     "output_type": "execute_result"
    }
   ],
   "source": [
    "# An easier alternative\n",
    "df.resample(\"Q\")[\"co\"].agg([\"max\", \"min\"])"
   ]
  },
  {
   "cell_type": "markdown",
   "id": "c7b3fd1d",
   "metadata": {},
   "source": [
    "Often, when you use .resample() you can express time-based grouping operations in a much more succinct manner. The result may be a tiny bit different than the more verbose .groupby() equivalent, but you’ll often find that .resample() gives you exactly what you’re looking for."
   ]
  },
  {
   "cell_type": "markdown",
   "id": "a74fd411",
   "metadata": {},
   "source": [
    "### **Example 3: News Aggregator Dataset**\n",
    "Now you’ll work with the third and final dataset, which holds metadata on several hundred thousand news articles and groups them into topic clusters:"
   ]
  },
  {
   "cell_type": "code",
   "execution_count": 50,
   "id": "5e106749",
   "metadata": {},
   "outputs": [
    {
     "name": "stderr",
     "output_type": "stream",
     "text": [
      "C:\\Users\\Christopher French\\AppData\\Local\\Temp\\ipykernel_6740\\3941906598.py:7: FutureWarning: The argument 'date_parser' is deprecated and will be removed in a future version. Please use 'date_format' instead, or read your data in as 'object' dtype and then call 'to_datetime'.\n",
      "  df = pd.read_csv(\"groupby-data/news.csv\", sep=\"\\t\", header=None, index_col=0,\n"
     ]
    }
   ],
   "source": [
    "import pandas as pd\n",
    "\n",
    "def parse_millisecond_timestamp(ts):\n",
    "    \"\"\"Convert ms since Unix epoch to UTC datetime instance.\"\"\"\n",
    "    return pd.to_datetime(ts, unit=\"ms\")\n",
    "\n",
    "df = pd.read_csv(\"groupby-data/news.csv\", sep=\"\\t\", header=None, index_col=0,\n",
    "                 names=[\"title\", \"url\", \"outlet\", \"category\", \"cluster\", \"host\", \"tstamp\"],\n",
    "                 parse_dates=[\"tstamp\"], date_parser=parse_millisecond_timestamp,\n",
    "                 dtype={\n",
    "                     \"outlet\": \"category\",\n",
    "                     \"category\": \"category\",\n",
    "                     \"cluster\": \"category\",\n",
    "                     \"host\": \"category\"})\n"
   ]
  },
  {
   "cell_type": "markdown",
   "id": "841aa41b",
   "metadata": {},
   "source": [
    "To read the data into memory with the proper dtype, you need a helper function to parse the timestamp column. This is because it’s expressed as the number of milliseconds since the Unix epoch, rather than fractional seconds. If you want to learn more about working with time in Python, check out Using Python datetime to Work With Dates and Times.\n",
    "\n",
    "Similar to what you did before, you can use the categorical dtype to efficiently encode columns that have a relatively small number of unique values relative to the column length.\n",
    "\n",
    "Each row of the dataset contains the title, URL, publishing outlet’s name, and domain, as well as the publication timestamp. cluster is a random ID for the topic cluster to which an article belongs. category is the news category and contains the following options:\n",
    "\n",
    "<ul>\n",
    "    <li>b for business</li>\n",
    "    <li>t for science and technology</li>\n",
    "    <li>e for entertainment</li>\n",
    "    <li>m for health</li>\n",
    "</ul>"
   ]
  },
  {
   "cell_type": "code",
   "execution_count": 51,
   "id": "77f3fe5a",
   "metadata": {},
   "outputs": [
    {
     "data": {
      "text/plain": [
       "title       Fed official says weak data caused by weather,...\n",
       "url         http://www.latimes.com/business/money/la-fi-mo...\n",
       "outlet                                      Los Angeles Times\n",
       "category                                                    b\n",
       "cluster                         ddUyU0VZz0BRneMioxUPQVP6sIxvM\n",
       "host                                          www.latimes.com\n",
       "tstamp                             2014-03-10 16:52:50.698000\n",
       "Name: 1, dtype: object"
      ]
     },
     "execution_count": 51,
     "metadata": {},
     "output_type": "execute_result"
    }
   ],
   "source": [
    "# Here’s the first row\n",
    "df.iloc[0]"
   ]
  },
  {
   "cell_type": "markdown",
   "id": "a70e5fcc",
   "metadata": {},
   "source": [
    "Now that you’ve gotten a glimpse of the data, you can begin to ask more complex questions about it."
   ]
  },
  {
   "cell_type": "markdown",
   "id": "4af278e6",
   "metadata": {},
   "source": [
    "### **Using Lambda Functions in .groupby()**\n",
    "This dataset invites a lot more potentially involved questions. Here’s a random but meaningful one: which outlets talk most about the Federal Reserve? Assume for simplicity that this entails searching for case-sensitive mentions of \"Fed\". Bear in mind that this may generate some false positives with terms like \"Federal government\"."
   ]
  },
  {
   "cell_type": "code",
   "execution_count": 52,
   "id": "d6f3ff68",
   "metadata": {},
   "outputs": [
    {
     "name": "stderr",
     "output_type": "stream",
     "text": [
      "C:\\Users\\Christopher French\\AppData\\Local\\Temp\\ipykernel_6740\\2904994488.py:3: FutureWarning: The default of observed=False is deprecated and will be changed to True in a future version of pandas. Pass observed=False to retain current behavior or observed=True to adopt the future default and silence this warning.\n",
      "  df.groupby(\"outlet\", sort=False)[\"title\"].apply(\n"
     ]
    },
    {
     "data": {
      "text/plain": [
       "outlet\n",
       "Reuters                         161\n",
       "NASDAQ                          103\n",
       "Businessweek                     93\n",
       "Investing.com                    66\n",
       "Wall Street Journal \\(blog\\)     61\n",
       "MarketWatch                      56\n",
       "Moneynews                        55\n",
       "Bloomberg                        53\n",
       "GlobalPost                       51\n",
       "Economic Times                   44\n",
       "Name: title, dtype: int64"
      ]
     },
     "execution_count": 52,
     "metadata": {},
     "output_type": "execute_result"
    }
   ],
   "source": [
    "# To count mentions by outlet, you can call .groupby() on the outlet, \n",
    "# and then quite literally .apply() a function on each group using a Python lambda function:\n",
    "df.groupby(\"outlet\", sort=False)[\"title\"].apply(\n",
    "    lambda ser: ser.str.contains(\"Fed\").sum()\n",
    ").nlargest(10)"
   ]
  },
  {
   "cell_type": "markdown",
   "id": "baeba05a",
   "metadata": {},
   "source": [
    "Let’s break this down since there are several method calls made in succession. Like before, you can pull out the first group and its corresponding pandas object by taking the first tuple from the pandas GroupBy iterator"
   ]
  },
  {
   "cell_type": "code",
   "execution_count": 53,
   "id": "3a236d0e",
   "metadata": {},
   "outputs": [
    {
     "name": "stderr",
     "output_type": "stream",
     "text": [
      "C:\\Users\\Christopher French\\AppData\\Local\\Temp\\ipykernel_6740\\1008859338.py:1: FutureWarning: The default of observed=False is deprecated and will be changed to True in a future version of pandas. Pass observed=False to retain current behavior or observed=True to adopt the future default and silence this warning.\n",
      "  title, ser = next(iter(df.groupby(\"outlet\", sort=False)[\"title\"]))\n"
     ]
    },
    {
     "data": {
      "text/plain": [
       "'Los Angeles Times'"
      ]
     },
     "execution_count": 53,
     "metadata": {},
     "output_type": "execute_result"
    }
   ],
   "source": [
    "title, ser = next(iter(df.groupby(\"outlet\", sort=False)[\"title\"]))\n",
    "title"
   ]
  },
  {
   "cell_type": "code",
   "execution_count": 54,
   "id": "cd8fe414",
   "metadata": {},
   "outputs": [
    {
     "data": {
      "text/plain": [
       "1       Fed official says weak data caused by weather,...\n",
       "486            Stocks fall on discouraging news from Asia\n",
       "1124    Clues to Genghis Khan's rise, written in the r...\n",
       "1146    Elephants distinguish human voices by sex, age...\n",
       "1237    Honda splits Acura into its own division to re...\n",
       "Name: title, dtype: object"
      ]
     },
     "execution_count": 54,
     "metadata": {},
     "output_type": "execute_result"
    }
   ],
   "source": [
    "ser.head()"
   ]
  },
  {
   "cell_type": "markdown",
   "id": "d202bd17",
   "metadata": {},
   "source": [
    "In this case, ser is a pandas Series rather than a DataFrame. That’s because you followed up the .groupby() call with [\"title\"]. This effectively selects that single column from each sub-table.\n",
    "\n",
    "Next comes .str.contains(\"Fed\"). This returns a Boolean Series that’s True when an article title registers a match on the search. Sure enough, the first row starts with \"Fed official says weak data caused by weather,...\" and lights up as True:\n",
    "\n"
   ]
  },
  {
   "cell_type": "code",
   "execution_count": 55,
   "id": "b4f92087",
   "metadata": {},
   "outputs": [
    {
     "data": {
      "text/plain": [
       "1          True\n",
       "486       False\n",
       "1124      False\n",
       "1146      False\n",
       "1237      False\n",
       "          ...  \n",
       "421547    False\n",
       "421584    False\n",
       "421972    False\n",
       "422226    False\n",
       "422905    False\n",
       "Name: title, Length: 1976, dtype: bool"
      ]
     },
     "execution_count": 55,
     "metadata": {},
     "output_type": "execute_result"
    }
   ],
   "source": [
    "ser.str.contains(\"Fed\")"
   ]
  },
  {
   "cell_type": "markdown",
   "id": "03756261",
   "metadata": {},
   "source": [
    "The next step is to .sum() this Series. Since bool is technically just a specialized type of int, you can sum a Series of True and False just as you would sum a sequence of 1 and 0:"
   ]
  },
  {
   "cell_type": "code",
   "execution_count": 56,
   "id": "cc5b7e90",
   "metadata": {},
   "outputs": [
    {
     "data": {
      "text/plain": [
       "np.int64(17)"
      ]
     },
     "execution_count": 56,
     "metadata": {},
     "output_type": "execute_result"
    }
   ],
   "source": [
    "ser.str.contains(\"Fed\").sum()"
   ]
  },
  {
   "cell_type": "markdown",
   "id": "6a7ff7f8",
   "metadata": {},
   "source": [
    "The result is the number of mentions of \"Fed\" by the Los Angeles Times in the dataset. The same routine gets applied for Reuters, NASDAQ, Businessweek, and the rest of the lot."
   ]
  },
  {
   "cell_type": "markdown",
   "id": "e6dd0ec6",
   "metadata": {},
   "source": [
    "Improving the Performance of .groupby()\n",
    "Now backtrack again to .groupby().apply() to see why this pattern can be suboptimal. To get some background information, check out How to Speed Up Your pandas Projects. What may happen with .apply() is that it’ll effectively perform a Python loop over each group. While the .groupby().apply() pattern can provide some flexibility, it can also inhibit pandas from otherwise using its Cython-based optimizations.\n",
    "\n",
    "All that is to say that whenever you find yourself thinking about using .apply(), ask yourself if there’s a way to express the operation in a vectorized way. In that case, you can take advantage of the fact that .groupby() accepts not just one or more column names, but also many array-like structures:\n",
    "\n",
    "<ul>\n",
    "    <li>A one-dimensional NumPy array</li>\n",
    "    <li>A list</li>\n",
    "    <li>A pandas Series or Index</li>\n",
    "</ul>\n",
    "\n",
    "<div class=\"alert alert-block alert-info\">\n",
    "<b>Note:</b> .groupby() is a valid instance method for a Series, not just a DataFrame, so you can essentially invert the splitting logic. With that in mind, you can first construct a Series of Booleans that indicate whether or not the title contains \"Fed\"</div>"
   ]
  },
  {
   "cell_type": "code",
   "execution_count": 57,
   "id": "c7111ed3",
   "metadata": {},
   "outputs": [
    {
     "name": "stdout",
     "output_type": "stream",
     "text": [
      "<class 'pandas.core.series.Series'>\n"
     ]
    }
   ],
   "source": [
    "mentions_fed = df[\"title\"].str.contains(\"Fed\")\n",
    "print(type(mentions_fed))"
   ]
  },
  {
   "cell_type": "code",
   "execution_count": 59,
   "id": "a5690652",
   "metadata": {},
   "outputs": [
    {
     "name": "stderr",
     "output_type": "stream",
     "text": [
      "C:\\Users\\Christopher French\\AppData\\Local\\Temp\\ipykernel_6740\\3232616300.py:3: FutureWarning: The default of observed=False is deprecated and will be changed to True in a future version of pandas. Pass observed=False to retain current behavior or observed=True to adopt the future default and silence this warning.\n",
      "  mentions_fed.groupby(\n"
     ]
    },
    {
     "data": {
      "text/plain": [
       "outlet\n",
       "Reuters                         161\n",
       "NASDAQ                          103\n",
       "Businessweek                     93\n",
       "Investing.com                    66\n",
       "Wall Street Journal \\(blog\\)     61\n",
       "MarketWatch                      56\n",
       "Moneynews                        55\n",
       "Bloomberg                        53\n",
       "GlobalPost                       51\n",
       "Economic Times                   44\n",
       "Name: title, dtype: uint32"
      ]
     },
     "execution_count": 59,
     "metadata": {},
     "output_type": "execute_result"
    }
   ],
   "source": [
    "# Now, .groupby() is also a method of Series, so you can group one Series on another\n",
    "import numpy as np\n",
    "mentions_fed.groupby(\n",
    "    df[\"outlet\"], sort=False\n",
    ").sum().nlargest(10).astype(np.uintc)"
   ]
  },
  {
   "cell_type": "markdown",
   "id": "d538cba3",
   "metadata": {},
   "source": [
    "<div class=\"alert alert-block alert-success\">\n",
    "<b>Additionally:</b> The two Series don’t need to be columns of the same DataFrame object. They just need to be of the same shape.\n",
    "</div>"
   ]
  },
  {
   "cell_type": "code",
   "execution_count": 63,
   "id": "205cb6fc",
   "metadata": {},
   "outputs": [
    {
     "data": {
      "text/plain": [
       "(422419,)"
      ]
     },
     "execution_count": 63,
     "metadata": {},
     "output_type": "execute_result"
    }
   ],
   "source": [
    "mentions_fed.shape"
   ]
  },
  {
   "cell_type": "code",
   "execution_count": 64,
   "id": "cbb3ed23",
   "metadata": {},
   "outputs": [
    {
     "data": {
      "text/plain": [
       "(422419,)"
      ]
     },
     "execution_count": 64,
     "metadata": {},
     "output_type": "execute_result"
    }
   ],
   "source": [
    "df[\"outlet\"].shape"
   ]
  },
  {
   "cell_type": "markdown",
   "id": "1f5b7174",
   "metadata": {},
   "source": [
    "Finally, you can cast the result back to an unsigned integer with np.uintc if you’re determined to get the most compact result possible. Here’s a head-to-head comparison of the two versions that’ll produce the same result."
   ]
  },
  {
   "cell_type": "code",
   "execution_count": 65,
   "id": "437275c9",
   "metadata": {},
   "outputs": [
    {
     "name": "stderr",
     "output_type": "stream",
     "text": [
      "C:\\Users\\Christopher French\\AppData\\Local\\Temp\\ipykernel_6740\\2452032097.py:6: FutureWarning: The default of observed=False is deprecated and will be changed to True in a future version of pandas. Pass observed=False to retain current behavior or observed=True to adopt the future default and silence this warning.\n",
      "  df.groupby(\"outlet\", sort=False)[\"title\"].apply(\n"
     ]
    },
    {
     "name": "stdout",
     "output_type": "stream",
     "text": [
      "Version 1: 22.374884299992118\n"
     ]
    },
    {
     "name": "stderr",
     "output_type": "stream",
     "text": [
      "C:\\Users\\Christopher French\\AppData\\Local\\Temp\\ipykernel_6740\\2452032097.py:13: FutureWarning: The default of observed=False is deprecated and will be changed to True in a future version of pandas. Pass observed=False to retain current behavior or observed=True to adopt the future default and silence this warning.\n",
      "  mentions_fed.groupby(\n",
      "C:\\Users\\Christopher French\\AppData\\Local\\Temp\\ipykernel_6740\\2452032097.py:13: FutureWarning: The default of observed=False is deprecated and will be changed to True in a future version of pandas. Pass observed=False to retain current behavior or observed=True to adopt the future default and silence this warning.\n",
      "  mentions_fed.groupby(\n"
     ]
    },
    {
     "name": "stdout",
     "output_type": "stream",
     "text": [
      "Version 2: 1.054986800008919\n"
     ]
    },
    {
     "name": "stderr",
     "output_type": "stream",
     "text": [
      "C:\\Users\\Christopher French\\AppData\\Local\\Temp\\ipykernel_6740\\2452032097.py:13: FutureWarning: The default of observed=False is deprecated and will be changed to True in a future version of pandas. Pass observed=False to retain current behavior or observed=True to adopt the future default and silence this warning.\n",
      "  mentions_fed.groupby(\n"
     ]
    }
   ],
   "source": [
    "import timeit\n",
    "import numpy as np\n",
    "\n",
    "def test_apply():\n",
    "    \"\"\"Version 1: using `.apply()`\"\"\"\n",
    "    df.groupby(\"outlet\", sort=False)[\"title\"].apply(\n",
    "        lambda ser: ser.str.contains(\"Fed\").sum()\n",
    "    ).nlargest(10)\n",
    "\n",
    "def test_vectorization():\n",
    "    \"\"\"Version 2: using vectorization\"\"\"\n",
    "    mentions_fed = df[\"title\"].str.contains(\"Fed\")\n",
    "    mentions_fed.groupby(\n",
    "        df[\"outlet\"], sort=False\n",
    "    ).sum().nlargest(10).astype(np.uintc)\n",
    "\n",
    "print(f\"Version 1: {timeit.timeit(test_apply, number=3)}\")\n",
    "print(f\"Version 2: {timeit.timeit(test_vectorization, number=3)}\")"
   ]
  },
  {
   "cell_type": "markdown",
   "id": "ba18d185",
   "metadata": {},
   "source": [
    "You use the **timeit** module to estimate the running time of both versions. If you want to learn more about testing the performance of your code, then **Python Timer Functions: Three Ways to Monitor Your Code** is worth a read."
   ]
  },
  {
   "cell_type": "markdown",
   "id": "d38df390",
   "metadata": {},
   "source": [
    "When run three times, the test_apply() function takes 2.54 seconds, while test_vectorization() takes just 0.33 seconds. This is an impressive difference in CPU time for a few hundred thousand rows. Consider how dramatic the difference becomes when your dataset grows to a few million rows!"
   ]
  },
  {
   "cell_type": "markdown",
   "id": "f777f283",
   "metadata": {},
   "source": [
    "<div class=\"alert alert-block alert-info\">\n",
    "<b>Note:</b> This example glazes over a few details in the data for the sake of simplicity. Namely, the search term \"Fed\" might also find mentions of things like \"Federal government\".\n",
    "\n",
    "Series.str.contains() also takes a compiled regular expression as an argument if you want to get fancy and use an expression involving a negative lookahead.\n",
    "\n",
    "You may also want to count not just the raw number of mentions, but the proportion of mentions relative to all articles that a news outlet produced.\n",
    "</div>"
   ]
  },
  {
   "cell_type": "markdown",
   "id": "382d7f73",
   "metadata": {},
   "source": [
    "## **pandas GroupBy: Putting It All Together**\n",
    "If you call dir() on a pandas GroupBy object, then you’ll see enough methods there to make your head spin! It can be hard to keep track of all of the functionality of a pandas GroupBy object. One way to clear the fog is to compartmentalize the different methods into what they do and how they behave.\n",
    "\n",
    "Broadly, methods of a pandas GroupBy object fall into a handful of categories:\n",
    "\n",
    "<ol>\n",
    "<li><b>Aggregation methods</b> (also called <b>reduction methods</b>) combine many data points into an aggregated statistic about those data points. An example is to take the sum, mean, or median of ten numbers, where the result is just a single number.</li>\n",
    "\n",
    "<li><b>Filter methods</b> come back to you with a subset of the original DataFrame. This most commonly means using .filter() to drop entire groups based on some comparative statistic about that group and its sub-table. It also makes sense to include under this definition a number of methods that exclude particular rows from each group.</li>\n",
    "\n",
    "<li><b>Transformation methods</b> return a DataFrame with the same shape and indices as the original, but with different values. With both aggregation and filter methods, the resulting DataFrame will commonly be smaller in size than the input DataFrame. This is not true of a transformation, which transforms individual values themselves but retains the shape of the original DataFrame.</li>\n",
    "\n",
    "<li><b>Meta methods</b> are less concerned with the original object on which you called .groupby(), and more focused on giving you high-level information such as the number of groups and the indices of those groups.</li>\n",
    "\n",
    "<li><b>Plotting methods</b> mimic the API of plotting for a pandas Series or DataFrame, but typically break the output into multiple subplots.</li>\n",
    "</ol>\n",
    "\n",
    "The official documentation has its own explanation of these categories. They are, to some degree, open to interpretation, and this tutorial might diverge in slight ways in classifying which method falls where.\n",
    "\n",
    "There are a few methods of pandas GroupBy objects that don’t fall nicely into the categories above. These methods usually produce an intermediate object that’s not a DataFrame or Series. For instance, df.groupby().rolling() produces a RollingGroupby object, which you can then call aggregation, filter, or transformation methods on.\n",
    "\n",
    "If you want to dive in deeper, then the API documentations for DataFrame.groupby(), DataFrame.resample(), and pandas.Grouper are resources for exploring methods and objects.\n",
    "\n",
    "There’s also yet another separate table in the pandas docs with its own classification scheme. Pick whichever works for you and seems most intuitive!"
   ]
  },
  {
   "cell_type": "markdown",
   "id": "85649c1b",
   "metadata": {},
   "source": [
    "## **Conclusion**\n",
    "In this tutorial, you’ve covered a ton of ground on .groupby(), including its design, its API, and how to chain methods together to get data into a structure that suits your purpose.\n",
    "\n",
    "<b>You’ve learned:</b>\n",
    "\n",
    "<ul>\n",
    "    <li>How to use pandas GroupBy operations on real-world data</li>\n",
    "    <li>How the split-apply-combine chain of operations works and how you can decompose it into steps</li>\n",
    "    <li>How methods of a pandas GroupBy object can be categorized based on their intent and result</li>\n",
    "</ul>\n",
    "\n",
    "There’s much more to .groupby() than you can cover in one tutorial. But hopefully this tutorial was a good starting point for further exploration!\n",
    "\n",
    "You can download the source code for all the examples in this tutorial by clicking on the link below:"
   ]
  }
 ],
 "metadata": {
  "kernelspec": {
   "display_name": "venv",
   "language": "python",
   "name": "python3"
  },
  "language_info": {
   "codemirror_mode": {
    "name": "ipython",
    "version": 3
   },
   "file_extension": ".py",
   "mimetype": "text/x-python",
   "name": "python",
   "nbconvert_exporter": "python",
   "pygments_lexer": "ipython3",
   "version": "3.13.3"
  }
 },
 "nbformat": 4,
 "nbformat_minor": 5
}
